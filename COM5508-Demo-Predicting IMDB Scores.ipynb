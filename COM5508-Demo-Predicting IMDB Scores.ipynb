{
 "cells": [
  {
   "cell_type": "markdown",
   "metadata": {
    "toc": true
   },
   "source": [
    "<h1>Table of Contents<span class=\"tocSkip\"></span></h1>\n",
    "<div class=\"toc\"><ul class=\"toc-item\"><li><span><a href=\"#Preparation-for-Classification\" data-toc-modified-id=\"Preparation-for-Classification-1\"><span class=\"toc-item-num\">1&nbsp;&nbsp;</span>Preparation for Classification</a></span><ul class=\"toc-item\"><li><span><a href=\"#Loading-Data\" data-toc-modified-id=\"Loading-Data-1.1\"><span class=\"toc-item-num\">1.1&nbsp;&nbsp;</span>Loading Data</a></span></li><li><span><a href=\"#Data-Description\" data-toc-modified-id=\"Data-Description-1.2\"><span class=\"toc-item-num\">1.2&nbsp;&nbsp;</span>Data Description</a></span></li><li><span><a href=\"#IV-and-DV\" data-toc-modified-id=\"IV-and-DV-1.3\"><span class=\"toc-item-num\">1.3&nbsp;&nbsp;</span>IV and DV</a></span></li><li><span><a href=\"#Binning-DV\" data-toc-modified-id=\"Binning-DV-1.4\"><span class=\"toc-item-num\">1.4&nbsp;&nbsp;</span>Binning DV</a></span></li></ul></li><li><span><a href=\"#Using-Numerical-Features\" data-toc-modified-id=\"Using-Numerical-Features-2\"><span class=\"toc-item-num\">2&nbsp;&nbsp;</span>Using Numerical Features</a></span><ul class=\"toc-item\"><li><span><a href=\"#Specify-Numeric-Features-(IVs)\" data-toc-modified-id=\"Specify-Numeric-Features-(IVs)-2.1\"><span class=\"toc-item-num\">2.1&nbsp;&nbsp;</span>Specify Numeric Features (IVs)</a></span></li><li><span><a href=\"#Feature-(IV)-Transformations\" data-toc-modified-id=\"Feature-(IV)-Transformations-2.2\"><span class=\"toc-item-num\">2.2&nbsp;&nbsp;</span>Feature (IV) Transformations</a></span></li><li><span><a href=\"#Splitting-Training-and-Testing-Sets\" data-toc-modified-id=\"Splitting-Training-and-Testing-Sets-2.3\"><span class=\"toc-item-num\">2.3&nbsp;&nbsp;</span>Splitting Training and Testing Sets</a></span></li><li><span><a href=\"#Random-Forests\" data-toc-modified-id=\"Random-Forests-2.4\"><span class=\"toc-item-num\">2.4&nbsp;&nbsp;</span>Random Forests</a></span></li><li><span><a href=\"#Cross-Validation\" data-toc-modified-id=\"Cross-Validation-2.5\"><span class=\"toc-item-num\">2.5&nbsp;&nbsp;</span>Cross Validation</a></span></li></ul></li><li><span><a href=\"#Adding-Categorical-Features\" data-toc-modified-id=\"Adding-Categorical-Features-3\"><span class=\"toc-item-num\">3&nbsp;&nbsp;</span>Adding Categorical Features</a></span><ul class=\"toc-item\"><li><span><a href=\"#Dummy-Coding-Movie-Genres\" data-toc-modified-id=\"Dummy-Coding-Movie-Genres-3.1\"><span class=\"toc-item-num\">3.1&nbsp;&nbsp;</span>Dummy Coding Movie Genres</a></span></li><li><span><a href=\"#Running-Random-Forests\" data-toc-modified-id=\"Running-Random-Forests-3.2\"><span class=\"toc-item-num\">3.2&nbsp;&nbsp;</span>Running Random Forests</a></span></li></ul></li><li><span><a href=\"#More-Features-=-Better-Performance-?\" data-toc-modified-id=\"More-Features-=-Better-Performance-?-4\"><span class=\"toc-item-num\">4&nbsp;&nbsp;</span>More Features = Better Performance ?</a></span><ul class=\"toc-item\"><li><span><a href=\"#Dummy-Coding-Director/Actor-Names\" data-toc-modified-id=\"Dummy-Coding-Director/Actor-Names-4.1\"><span class=\"toc-item-num\">4.1&nbsp;&nbsp;</span>Dummy Coding Director/Actor Names</a></span></li><li><span><a href=\"#Running-Random-Forests\" data-toc-modified-id=\"Running-Random-Forests-4.2\"><span class=\"toc-item-num\">4.2&nbsp;&nbsp;</span>Running Random Forests</a></span></li></ul></li></ul></div>"
   ]
  },
  {
   "cell_type": "markdown",
   "metadata": {},
   "source": [
    "# Preparation for Classification\n",
    "\n",
    "## Loading Data\n",
    "\n",
    "The dataset is from Kaggle, collected originally from IMDB.\n",
    "\n",
    "Here’s the link for the dataset: https://www.kaggle.com/carolzhangdc/imdb-5000-movie-dataset\n",
    "\n",
    "Code Reference: https://www.kaggle.com/carolzhangdc/analyze-imdb-score-with-data-mining-algorithms\n"
   ]
  },
  {
   "cell_type": "code",
   "execution_count": 2,
   "metadata": {
    "ExecuteTime": {
     "end_time": "2019-01-14T13:44:32.960715Z",
     "start_time": "2019-01-14T13:44:32.951905Z"
    }
   },
   "outputs": [],
   "source": [
    "import numpy as np\n",
    "import pandas as pd\n",
    "\n",
    "import warnings\n",
    "warnings.filterwarnings('ignore')\n",
    "\n",
    "%matplotlib inline"
   ]
  },
  {
   "cell_type": "code",
   "execution_count": 3,
   "metadata": {
    "ExecuteTime": {
     "end_time": "2019-01-14T13:43:43.354050Z",
     "start_time": "2019-01-14T13:43:43.297307Z"
    }
   },
   "outputs": [],
   "source": [
    "df = pd.read_csv('./movie_metadata.csv')"
   ]
  },
  {
   "cell_type": "markdown",
   "metadata": {},
   "source": [
    "## Data Description\n",
    "\n",
    "It contains 28 variables for 5043 movies, spanning across 100 years in 66 countries. There are 2399 unique director names, and thousands of actors/actresses. “imdb_score” is the **dependent variable** while the other 27 variables are possible predictors (**independent variables**).\n",
    "\n",
    "    Variable Name: Description\n",
    "    movie_title: Title of the Movie\n",
    "    duration: Duration in minutes\n",
    "    director_name: Name of the Director of the Movie\n",
    "    director_facebook_likes: Number of likes of the Director on his Facebook Page\n",
    "    actor_1_name: Primary actor starring in the movie\n",
    "    actor_1_facebook_likes: Number of likes of the Actor_1 on his/her Facebook Page\n",
    "    actor_2_name: Other actor starring in the movie\n",
    "    actor_2_facebook_likes: Number of likes of the Actor_2 on his/her Facebook Page\n",
    "    actor_3_name: Other actor starring in the movie\n",
    "    actor_3_facebook_likes: Number of likes of the Actor_3 on his/her Facebook Page\n",
    "    num_user_for_reviews: Number of users who gave a review\n",
    "    num_critic_for_reviews: Number of critical reviews on imdb\n",
    "    num_voted_users: Number of people who voted for the movie\n",
    "    cast_total_facebook_likes: Total number of facebook likes of the entire cast of the movie\n",
    "    movie_facebook_likes: Number of Facebook likes in the movie page\n",
    "    plot_keywords: Keywords describing the movie plot\n",
    "    facenumber_in_poster: Number of the actor who featured in the movie poster\n",
    "    color: Film colorization. ‘Black and White’ or ‘Color’\n",
    "    genres: Film categorization like ‘Animation’, ‘Comedy’, ‘Romance’, ‘Horror’, ‘Sci-Fi’, ‘Action’, ‘Family’\n",
    "    title_year: The year in which the movie is released (1916: 2016)\n",
    "    language: English, Arabic, Chinese, French, German, Danish, Italian, Japanese etc\n",
    "    country: Country where the movie is produced\n",
    "    content_rating: Content rating of the movie\n",
    "    aspect_ratio: Aspect ratio the movie was made in\n",
    "    movie_imdb_link: IMDB link of the movie\n",
    "    gross: Gross earnings of the movie in Dollars\n",
    "    budget: Budget of the movie in Dollars\n",
    "    imdb_score: IMDB Score of the movie on IMDB"
   ]
  },
  {
   "cell_type": "code",
   "execution_count": 4,
   "metadata": {
    "ExecuteTime": {
     "end_time": "2019-01-14T13:43:45.094790Z",
     "start_time": "2019-01-14T13:43:45.089430Z"
    }
   },
   "outputs": [
    {
     "name": "stdout",
     "output_type": "stream",
     "text": [
      "# of Rows:  5043\n",
      "# of Variables:  28\n",
      "Variables:  ['color' 'director_name' 'num_critic_for_reviews' 'duration'\n",
      " 'director_facebook_likes' 'actor_3_facebook_likes' 'actor_2_name'\n",
      " 'actor_1_facebook_likes' 'gross' 'genres' 'actor_1_name' 'movie_title'\n",
      " 'num_voted_users' 'cast_total_facebook_likes' 'actor_3_name'\n",
      " 'facenumber_in_poster' 'plot_keywords' 'movie_imdb_link'\n",
      " 'num_user_for_reviews' 'language' 'country' 'content_rating' 'budget'\n",
      " 'title_year' 'actor_2_facebook_likes' 'imdb_score' 'aspect_ratio'\n",
      " 'movie_facebook_likes']\n",
      "Min of Year:  1916.0\n",
      "Max of Year:  2016.0\n"
     ]
    }
   ],
   "source": [
    "print('# of Rows: ', df.shape[0])\n",
    "print('# of Variables: ', df.shape[1])\n",
    "print('Variables: ', df.columns.values)\n",
    "print('Min of Year: ', df['title_year'].min())\n",
    "print('Max of Year: ', df['title_year'].max())"
   ]
  },
  {
   "cell_type": "code",
   "execution_count": 5,
   "metadata": {
    "ExecuteTime": {
     "end_time": "2019-01-14T13:50:44.735315Z",
     "start_time": "2019-01-14T13:50:44.716997Z"
    }
   },
   "outputs": [
    {
     "data": {
      "text/plain": [
       "array([[1.        , 0.34788564],\n",
       "       [0.34788564, 1.        ]])"
      ]
     },
     "execution_count": 5,
     "metadata": {},
     "output_type": "execute_result"
    }
   ],
   "source": [
    "import numpy as np\n",
    "np.corrcoef(df.dropna()['num_critic_for_reviews'], df.dropna()['imdb_score'])"
   ]
  },
  {
   "cell_type": "markdown",
   "metadata": {},
   "source": [
    "## IV and DV\n",
    "    \n",
    "    How to make prediction? Think about the linear regression!\n",
    "\n",
    "<img src=\"https://atmos.washington.edu/~robwood/teaching/451/labs/images/concepts12.jpg\" width=\"60%\" style=\"float: center\">"
   ]
  },
  {
   "cell_type": "code",
   "execution_count": 6,
   "metadata": {
    "ExecuteTime": {
     "end_time": "2019-01-14T11:57:52.692435Z",
     "start_time": "2019-01-14T11:57:52.688187Z"
    }
   },
   "outputs": [
    {
     "data": {
      "text/plain": [
       "[7.9, 7.1, 6.8, 8.5, 7.1, 6.6, 6.2, 7.8, 7.5, 7.5, 6.9, 6.1, 6.7, 7.3, 6.5]"
      ]
     },
     "execution_count": 6,
     "metadata": {},
     "output_type": "execute_result"
    }
   ],
   "source": [
    "list(df['imdb_score'].values)[:15]"
   ]
  },
  {
   "cell_type": "code",
   "execution_count": 7,
   "metadata": {
    "ExecuteTime": {
     "end_time": "2019-01-14T14:58:00.320637Z",
     "start_time": "2019-01-14T14:58:00.176204Z"
    }
   },
   "outputs": [
    {
     "data": {
      "text/plain": [
       "<matplotlib.axes._subplots.AxesSubplot at 0x11df62898>"
      ]
     },
     "execution_count": 7,
     "metadata": {},
     "output_type": "execute_result"
    },
    {
     "data": {
      "image/png": "[encoded data removed]",
      "text/plain": [
       "<Figure size 432x288 with 1 Axes>"
      ]
     },
     "metadata": {
      "needs_background": "light"
     },
     "output_type": "display_data"
    }
   ],
   "source": [
    "df['imdb_score'].hist()"
   ]
  },
  {
   "cell_type": "markdown",
   "metadata": {},
   "source": [
    "## Binning DV\n",
    "\n",
    "<img src=\"https://cdn-images-1.medium.com/max/1600/1*ASYpFfDh7XnreU-ygqXonw.png\" width=\"60%\" style=\"float: center\">"
   ]
  },
  {
   "cell_type": "code",
   "execution_count": 8,
   "metadata": {
    "ExecuteTime": {
     "end_time": "2019-01-14T13:09:53.479930Z",
     "start_time": "2019-01-14T13:09:53.472407Z"
    },
    "scrolled": true
   },
   "outputs": [
    {
     "name": "stdout",
     "output_type": "stream",
     "text": [
      "[4, 4, 4, 5, 4, ..., 4, 4, 4, 4, 4]\n",
      "Length: 5043\n",
      "Categories (5, int64): [1 < 2 < 3 < 4 < 5]\n"
     ]
    }
   ],
   "source": [
    "dv = df[\"imdb_score\"]\n",
    "\n",
    "bins = [-1, 2, 4, 6, 8, 11]\n",
    "bin_labels = [1, 2, 3, 4, 5]\n",
    "dv_binned = pd.cut(dv, bins, right = False, labels = bin_labels)\n",
    "df['imdb_score_binned'] = dv_binned\n",
    "\n",
    "print(dv_binned.values)"
   ]
  },
  {
   "cell_type": "code",
   "execution_count": 9,
   "metadata": {},
   "outputs": [
    {
     "data": {
      "text/plain": [
       "imdb_score_binned\n",
       "1    0.000991\n",
       "2    0.029942\n",
       "3    0.257386\n",
       "4    0.646639\n",
       "5    0.065041\n",
       "Name: imdb_score_binned, dtype: float64"
      ]
     },
     "execution_count": 9,
     "metadata": {},
     "output_type": "execute_result"
    }
   ],
   "source": [
    "df['imdb_score_binned'].groupby(df['imdb_score_binned']).count()/len(df)"
   ]
  },
  {
   "cell_type": "markdown",
   "metadata": {},
   "source": [
    "# Using Numerical Features\n",
    "\n",
    "## Specify Numeric Features (IVs)\n",
    "\n",
    "    numeric_features = all \"continuous\" features"
   ]
  },
  {
   "cell_type": "code",
   "execution_count": 183,
   "metadata": {
    "ExecuteTime": {
     "end_time": "2019-01-14T13:12:03.193215Z",
     "start_time": "2019-01-14T13:12:03.170378Z"
    }
   },
   "outputs": [
    {
     "data": {
      "text/html": [
       "<div>\n",
       "<style scoped>\n",
       "    .dataframe tbody tr th:only-of-type {\n",
       "        vertical-align: middle;\n",
       "    }\n",
       "\n",
       "    .dataframe tbody tr th {\n",
       "        vertical-align: top;\n",
       "    }\n",
       "\n",
       "    .dataframe thead th {\n",
       "        text-align: right;\n",
       "    }\n",
       "</style>\n",
       "<table border=\"1\" class=\"dataframe\">\n",
       "  <thead>\n",
       "    <tr style=\"text-align: right;\">\n",
       "      <th></th>\n",
       "      <th>color</th>\n",
       "      <th>director_name</th>\n",
       "      <th>num_critic_for_reviews</th>\n",
       "      <th>duration</th>\n",
       "      <th>director_facebook_likes</th>\n",
       "      <th>actor_3_facebook_likes</th>\n",
       "      <th>actor_2_name</th>\n",
       "      <th>actor_1_facebook_likes</th>\n",
       "      <th>gross</th>\n",
       "      <th>genres</th>\n",
       "      <th>...</th>\n",
       "      <th>language</th>\n",
       "      <th>country</th>\n",
       "      <th>content_rating</th>\n",
       "      <th>budget</th>\n",
       "      <th>title_year</th>\n",
       "      <th>actor_2_facebook_likes</th>\n",
       "      <th>imdb_score</th>\n",
       "      <th>aspect_ratio</th>\n",
       "      <th>movie_facebook_likes</th>\n",
       "      <th>imdb_score_binned</th>\n",
       "    </tr>\n",
       "  </thead>\n",
       "  <tbody>\n",
       "    <tr>\n",
       "      <th>0</th>\n",
       "      <td>Color</td>\n",
       "      <td>James Cameron</td>\n",
       "      <td>723.0</td>\n",
       "      <td>178.0</td>\n",
       "      <td>0.0</td>\n",
       "      <td>855.0</td>\n",
       "      <td>Joel David Moore</td>\n",
       "      <td>1000.0</td>\n",
       "      <td>760505847.0</td>\n",
       "      <td>Action|Adventure|Fantasy|Sci-Fi</td>\n",
       "      <td>...</td>\n",
       "      <td>English</td>\n",
       "      <td>USA</td>\n",
       "      <td>PG-13</td>\n",
       "      <td>237000000.0</td>\n",
       "      <td>2009.0</td>\n",
       "      <td>936.0</td>\n",
       "      <td>7.9</td>\n",
       "      <td>1.78</td>\n",
       "      <td>33000</td>\n",
       "      <td>4</td>\n",
       "    </tr>\n",
       "    <tr>\n",
       "      <th>1</th>\n",
       "      <td>Color</td>\n",
       "      <td>Gore Verbinski</td>\n",
       "      <td>302.0</td>\n",
       "      <td>169.0</td>\n",
       "      <td>563.0</td>\n",
       "      <td>1000.0</td>\n",
       "      <td>Orlando Bloom</td>\n",
       "      <td>40000.0</td>\n",
       "      <td>309404152.0</td>\n",
       "      <td>Action|Adventure|Fantasy</td>\n",
       "      <td>...</td>\n",
       "      <td>English</td>\n",
       "      <td>USA</td>\n",
       "      <td>PG-13</td>\n",
       "      <td>300000000.0</td>\n",
       "      <td>2007.0</td>\n",
       "      <td>5000.0</td>\n",
       "      <td>7.1</td>\n",
       "      <td>2.35</td>\n",
       "      <td>0</td>\n",
       "      <td>4</td>\n",
       "    </tr>\n",
       "    <tr>\n",
       "      <th>2</th>\n",
       "      <td>Color</td>\n",
       "      <td>Sam Mendes</td>\n",
       "      <td>602.0</td>\n",
       "      <td>148.0</td>\n",
       "      <td>0.0</td>\n",
       "      <td>161.0</td>\n",
       "      <td>Rory Kinnear</td>\n",
       "      <td>11000.0</td>\n",
       "      <td>200074175.0</td>\n",
       "      <td>Action|Adventure|Thriller</td>\n",
       "      <td>...</td>\n",
       "      <td>English</td>\n",
       "      <td>UK</td>\n",
       "      <td>PG-13</td>\n",
       "      <td>245000000.0</td>\n",
       "      <td>2015.0</td>\n",
       "      <td>393.0</td>\n",
       "      <td>6.8</td>\n",
       "      <td>2.35</td>\n",
       "      <td>85000</td>\n",
       "      <td>4</td>\n",
       "    </tr>\n",
       "    <tr>\n",
       "      <th>3</th>\n",
       "      <td>Color</td>\n",
       "      <td>Christopher Nolan</td>\n",
       "      <td>813.0</td>\n",
       "      <td>164.0</td>\n",
       "      <td>22000.0</td>\n",
       "      <td>23000.0</td>\n",
       "      <td>Christian Bale</td>\n",
       "      <td>27000.0</td>\n",
       "      <td>448130642.0</td>\n",
       "      <td>Action|Thriller</td>\n",
       "      <td>...</td>\n",
       "      <td>English</td>\n",
       "      <td>USA</td>\n",
       "      <td>PG-13</td>\n",
       "      <td>250000000.0</td>\n",
       "      <td>2012.0</td>\n",
       "      <td>23000.0</td>\n",
       "      <td>8.5</td>\n",
       "      <td>2.35</td>\n",
       "      <td>164000</td>\n",
       "      <td>5</td>\n",
       "    </tr>\n",
       "    <tr>\n",
       "      <th>4</th>\n",
       "      <td>NaN</td>\n",
       "      <td>Doug Walker</td>\n",
       "      <td>NaN</td>\n",
       "      <td>NaN</td>\n",
       "      <td>131.0</td>\n",
       "      <td>NaN</td>\n",
       "      <td>Rob Walker</td>\n",
       "      <td>131.0</td>\n",
       "      <td>NaN</td>\n",
       "      <td>Documentary</td>\n",
       "      <td>...</td>\n",
       "      <td>NaN</td>\n",
       "      <td>NaN</td>\n",
       "      <td>NaN</td>\n",
       "      <td>NaN</td>\n",
       "      <td>NaN</td>\n",
       "      <td>12.0</td>\n",
       "      <td>7.1</td>\n",
       "      <td>NaN</td>\n",
       "      <td>0</td>\n",
       "      <td>4</td>\n",
       "    </tr>\n",
       "  </tbody>\n",
       "</table>\n",
       "<p>5 rows × 29 columns</p>\n",
       "</div>"
      ],
      "text/plain": [
       "   color      director_name  num_critic_for_reviews  duration  \\\n",
       "0  Color      James Cameron                   723.0     178.0   \n",
       "1  Color     Gore Verbinski                   302.0     169.0   \n",
       "2  Color         Sam Mendes                   602.0     148.0   \n",
       "3  Color  Christopher Nolan                   813.0     164.0   \n",
       "4    NaN        Doug Walker                     NaN       NaN   \n",
       "\n",
       "   director_facebook_likes  actor_3_facebook_likes      actor_2_name  \\\n",
       "0                      0.0                   855.0  Joel David Moore   \n",
       "1                    563.0                  1000.0     Orlando Bloom   \n",
       "2                      0.0                   161.0      Rory Kinnear   \n",
       "3                  22000.0                 23000.0    Christian Bale   \n",
       "4                    131.0                     NaN        Rob Walker   \n",
       "\n",
       "   actor_1_facebook_likes        gross                           genres  \\\n",
       "0                  1000.0  760505847.0  Action|Adventure|Fantasy|Sci-Fi   \n",
       "1                 40000.0  309404152.0         Action|Adventure|Fantasy   \n",
       "2                 11000.0  200074175.0        Action|Adventure|Thriller   \n",
       "3                 27000.0  448130642.0                  Action|Thriller   \n",
       "4                   131.0          NaN                      Documentary   \n",
       "\n",
       "         ...        language country  content_rating       budget title_year  \\\n",
       "0        ...         English     USA           PG-13  237000000.0     2009.0   \n",
       "1        ...         English     USA           PG-13  300000000.0     2007.0   \n",
       "2        ...         English      UK           PG-13  245000000.0     2015.0   \n",
       "3        ...         English     USA           PG-13  250000000.0     2012.0   \n",
       "4        ...             NaN     NaN             NaN          NaN        NaN   \n",
       "\n",
       "   actor_2_facebook_likes imdb_score aspect_ratio  movie_facebook_likes  \\\n",
       "0                   936.0        7.9         1.78                 33000   \n",
       "1                  5000.0        7.1         2.35                     0   \n",
       "2                   393.0        6.8         2.35                 85000   \n",
       "3                 23000.0        8.5         2.35                164000   \n",
       "4                    12.0        7.1          NaN                     0   \n",
       "\n",
       "  imdb_score_binned  \n",
       "0                 4  \n",
       "1                 4  \n",
       "2                 4  \n",
       "3                 5  \n",
       "4                 4  \n",
       "\n",
       "[5 rows x 29 columns]"
      ]
     },
     "execution_count": 183,
     "metadata": {},
     "output_type": "execute_result"
    }
   ],
   "source": [
    "df.head()"
   ]
  },
  {
   "cell_type": "code",
   "execution_count": 4,
   "metadata": {
    "ExecuteTime": {
     "end_time": "2019-01-14T13:43:59.600099Z",
     "start_time": "2019-01-14T13:43:59.572462Z"
    }
   },
   "outputs": [
    {
     "name": "stdout",
     "output_type": "stream",
     "text": [
      "# of Rows:  5043\n",
      "# of Variables:  15\n",
      "Variables:  ['num_critic_for_reviews' 'duration' 'director_facebook_likes'\n",
      " 'actor_3_facebook_likes' 'actor_1_facebook_likes' 'gross'\n",
      " 'num_voted_users' 'cast_total_facebook_likes' 'facenumber_in_poster'\n",
      " 'num_user_for_reviews' 'budget' 'actor_2_facebook_likes' 'imdb_score'\n",
      " 'aspect_ratio' 'movie_facebook_likes']\n"
     ]
    },
    {
     "data": {
      "text/html": [
       "<div>\n",
       "<style scoped>\n",
       "    .dataframe tbody tr th:only-of-type {\n",
       "        vertical-align: middle;\n",
       "    }\n",
       "\n",
       "    .dataframe tbody tr th {\n",
       "        vertical-align: top;\n",
       "    }\n",
       "\n",
       "    .dataframe thead th {\n",
       "        text-align: right;\n",
       "    }\n",
       "</style>\n",
       "<table border=\"1\" class=\"dataframe\">\n",
       "  <thead>\n",
       "    <tr style=\"text-align: right;\">\n",
       "      <th></th>\n",
       "      <th>num_critic_for_reviews</th>\n",
       "      <th>duration</th>\n",
       "      <th>director_facebook_likes</th>\n",
       "      <th>actor_3_facebook_likes</th>\n",
       "      <th>actor_1_facebook_likes</th>\n",
       "      <th>gross</th>\n",
       "      <th>num_voted_users</th>\n",
       "      <th>cast_total_facebook_likes</th>\n",
       "      <th>facenumber_in_poster</th>\n",
       "      <th>num_user_for_reviews</th>\n",
       "      <th>budget</th>\n",
       "      <th>actor_2_facebook_likes</th>\n",
       "      <th>imdb_score</th>\n",
       "      <th>aspect_ratio</th>\n",
       "      <th>movie_facebook_likes</th>\n",
       "    </tr>\n",
       "  </thead>\n",
       "  <tbody>\n",
       "    <tr>\n",
       "      <th>0</th>\n",
       "      <td>723.0</td>\n",
       "      <td>178.0</td>\n",
       "      <td>0.0</td>\n",
       "      <td>855.0</td>\n",
       "      <td>1000.0</td>\n",
       "      <td>760505847.0</td>\n",
       "      <td>886204</td>\n",
       "      <td>4834</td>\n",
       "      <td>0.0</td>\n",
       "      <td>3054.0</td>\n",
       "      <td>237000000.0</td>\n",
       "      <td>936.0</td>\n",
       "      <td>7.9</td>\n",
       "      <td>1.78</td>\n",
       "      <td>33000</td>\n",
       "    </tr>\n",
       "    <tr>\n",
       "      <th>1</th>\n",
       "      <td>302.0</td>\n",
       "      <td>169.0</td>\n",
       "      <td>563.0</td>\n",
       "      <td>1000.0</td>\n",
       "      <td>40000.0</td>\n",
       "      <td>309404152.0</td>\n",
       "      <td>471220</td>\n",
       "      <td>48350</td>\n",
       "      <td>0.0</td>\n",
       "      <td>1238.0</td>\n",
       "      <td>300000000.0</td>\n",
       "      <td>5000.0</td>\n",
       "      <td>7.1</td>\n",
       "      <td>2.35</td>\n",
       "      <td>0</td>\n",
       "    </tr>\n",
       "    <tr>\n",
       "      <th>2</th>\n",
       "      <td>602.0</td>\n",
       "      <td>148.0</td>\n",
       "      <td>0.0</td>\n",
       "      <td>161.0</td>\n",
       "      <td>11000.0</td>\n",
       "      <td>200074175.0</td>\n",
       "      <td>275868</td>\n",
       "      <td>11700</td>\n",
       "      <td>1.0</td>\n",
       "      <td>994.0</td>\n",
       "      <td>245000000.0</td>\n",
       "      <td>393.0</td>\n",
       "      <td>6.8</td>\n",
       "      <td>2.35</td>\n",
       "      <td>85000</td>\n",
       "    </tr>\n",
       "    <tr>\n",
       "      <th>3</th>\n",
       "      <td>813.0</td>\n",
       "      <td>164.0</td>\n",
       "      <td>22000.0</td>\n",
       "      <td>23000.0</td>\n",
       "      <td>27000.0</td>\n",
       "      <td>448130642.0</td>\n",
       "      <td>1144337</td>\n",
       "      <td>106759</td>\n",
       "      <td>0.0</td>\n",
       "      <td>2701.0</td>\n",
       "      <td>250000000.0</td>\n",
       "      <td>23000.0</td>\n",
       "      <td>8.5</td>\n",
       "      <td>2.35</td>\n",
       "      <td>164000</td>\n",
       "    </tr>\n",
       "    <tr>\n",
       "      <th>4</th>\n",
       "      <td>NaN</td>\n",
       "      <td>NaN</td>\n",
       "      <td>131.0</td>\n",
       "      <td>NaN</td>\n",
       "      <td>131.0</td>\n",
       "      <td>NaN</td>\n",
       "      <td>8</td>\n",
       "      <td>143</td>\n",
       "      <td>0.0</td>\n",
       "      <td>NaN</td>\n",
       "      <td>NaN</td>\n",
       "      <td>12.0</td>\n",
       "      <td>7.1</td>\n",
       "      <td>NaN</td>\n",
       "      <td>0</td>\n",
       "    </tr>\n",
       "  </tbody>\n",
       "</table>\n",
       "</div>"
      ],
      "text/plain": [
       "   num_critic_for_reviews  duration  director_facebook_likes  \\\n",
       "0                   723.0     178.0                      0.0   \n",
       "1                   302.0     169.0                    563.0   \n",
       "2                   602.0     148.0                      0.0   \n",
       "3                   813.0     164.0                  22000.0   \n",
       "4                     NaN       NaN                    131.0   \n",
       "\n",
       "   actor_3_facebook_likes  actor_1_facebook_likes        gross  \\\n",
       "0                   855.0                  1000.0  760505847.0   \n",
       "1                  1000.0                 40000.0  309404152.0   \n",
       "2                   161.0                 11000.0  200074175.0   \n",
       "3                 23000.0                 27000.0  448130642.0   \n",
       "4                     NaN                   131.0          NaN   \n",
       "\n",
       "   num_voted_users  cast_total_facebook_likes  facenumber_in_poster  \\\n",
       "0           886204                       4834                   0.0   \n",
       "1           471220                      48350                   0.0   \n",
       "2           275868                      11700                   1.0   \n",
       "3          1144337                     106759                   0.0   \n",
       "4                8                        143                   0.0   \n",
       "\n",
       "   num_user_for_reviews       budget  actor_2_facebook_likes  imdb_score  \\\n",
       "0                3054.0  237000000.0                   936.0         7.9   \n",
       "1                1238.0  300000000.0                  5000.0         7.1   \n",
       "2                 994.0  245000000.0                   393.0         6.8   \n",
       "3                2701.0  250000000.0                 23000.0         8.5   \n",
       "4                   NaN          NaN                    12.0         7.1   \n",
       "\n",
       "   aspect_ratio  movie_facebook_likes  \n",
       "0          1.78                 33000  \n",
       "1          2.35                     0  \n",
       "2          2.35                 85000  \n",
       "3          2.35                164000  \n",
       "4           NaN                     0  "
      ]
     },
     "execution_count": 4,
     "metadata": {},
     "output_type": "execute_result"
    }
   ],
   "source": [
    "numeric_features = df._get_numeric_data().columns.values.tolist()\n",
    "numeric_features.remove('title_year')\n",
    "\n",
    "print('# of Rows: ', df[numeric_features].shape[0])\n",
    "print('# of Variables: ', df[numeric_features].shape[1])\n",
    "print('Variables: ', df[numeric_features].columns.values)\n",
    "\n",
    "df[numeric_features].head()"
   ]
  },
  {
   "cell_type": "markdown",
   "metadata": {},
   "source": [
    "## Feature (IV) Transformations"
   ]
  },
  {
   "cell_type": "code",
   "execution_count": 162,
   "metadata": {
    "ExecuteTime": {
     "end_time": "2019-01-14T09:36:07.728876Z",
     "start_time": "2019-01-14T09:36:07.271630Z"
    },
    "scrolled": false
   },
   "outputs": [
    {
     "name": "stdout",
     "output_type": "stream",
     "text": [
      "# of Rows:  5043\n",
      "# of Variables:  15\n",
      "Variables:  ['num_critic_for_reviews' 'duration' 'director_facebook_likes'\n",
      " 'actor_3_facebook_likes' 'actor_1_facebook_likes' 'gross'\n",
      " 'num_voted_users' 'cast_total_facebook_likes' 'facenumber_in_poster'\n",
      " 'num_user_for_reviews' 'budget' 'actor_2_facebook_likes' 'imdb_score'\n",
      " 'aspect_ratio' 'movie_facebook_likes']\n"
     ]
    },
    {
     "data": {
      "text/html": [
       "<div>\n",
       "<style scoped>\n",
       "    .dataframe tbody tr th:only-of-type {\n",
       "        vertical-align: middle;\n",
       "    }\n",
       "\n",
       "    .dataframe tbody tr th {\n",
       "        vertical-align: top;\n",
       "    }\n",
       "\n",
       "    .dataframe thead th {\n",
       "        text-align: right;\n",
       "    }\n",
       "</style>\n",
       "<table border=\"1\" class=\"dataframe\">\n",
       "  <thead>\n",
       "    <tr style=\"text-align: right;\">\n",
       "      <th></th>\n",
       "      <th>num_critic_for_reviews</th>\n",
       "      <th>duration</th>\n",
       "      <th>director_facebook_likes</th>\n",
       "      <th>actor_3_facebook_likes</th>\n",
       "      <th>actor_1_facebook_likes</th>\n",
       "      <th>gross</th>\n",
       "      <th>num_voted_users</th>\n",
       "      <th>cast_total_facebook_likes</th>\n",
       "      <th>facenumber_in_poster</th>\n",
       "      <th>num_user_for_reviews</th>\n",
       "      <th>budget</th>\n",
       "      <th>actor_2_facebook_likes</th>\n",
       "      <th>imdb_score</th>\n",
       "      <th>aspect_ratio</th>\n",
       "      <th>movie_facebook_likes</th>\n",
       "    </tr>\n",
       "  </thead>\n",
       "  <tbody>\n",
       "    <tr>\n",
       "      <th>0</th>\n",
       "      <td>4.797503</td>\n",
       "      <td>2.814318</td>\n",
       "      <td>-0.241367</td>\n",
       "      <td>0.125431</td>\n",
       "      <td>-0.369902</td>\n",
       "      <td>11.160073</td>\n",
       "      <td>5.795674</td>\n",
       "      <td>-0.267871</td>\n",
       "      <td>-0.679747</td>\n",
       "      <td>7.369256</td>\n",
       "      <td>1.016877</td>\n",
       "      <td>-0.176884</td>\n",
       "      <td>1.295873</td>\n",
       "      <td>-0.335116</td>\n",
       "      <td>1.318632</td>\n",
       "    </tr>\n",
       "    <tr>\n",
       "      <th>1</th>\n",
       "      <td>1.340129</td>\n",
       "      <td>2.456819</td>\n",
       "      <td>-0.039256</td>\n",
       "      <td>0.212714</td>\n",
       "      <td>2.228319</td>\n",
       "      <td>4.168026</td>\n",
       "      <td>2.798784</td>\n",
       "      <td>2.128121</td>\n",
       "      <td>-0.679747</td>\n",
       "      <td>2.559467</td>\n",
       "      <td>1.338521</td>\n",
       "      <td>0.829814</td>\n",
       "      <td>0.584764</td>\n",
       "      <td>0.090444</td>\n",
       "      <td>-0.389572</td>\n",
       "    </tr>\n",
       "    <tr>\n",
       "      <th>2</th>\n",
       "      <td>3.803816</td>\n",
       "      <td>1.622653</td>\n",
       "      <td>-0.241367</td>\n",
       "      <td>-0.292328</td>\n",
       "      <td>0.296309</td>\n",
       "      <td>2.473418</td>\n",
       "      <td>1.388010</td>\n",
       "      <td>0.110172</td>\n",
       "      <td>-0.182725</td>\n",
       "      <td>1.913218</td>\n",
       "      <td>1.057721</td>\n",
       "      <td>-0.311391</td>\n",
       "      <td>0.318099</td>\n",
       "      <td>0.090444</td>\n",
       "      <td>4.010348</td>\n",
       "    </tr>\n",
       "    <tr>\n",
       "      <th>3</th>\n",
       "      <td>5.536609</td>\n",
       "      <td>2.258208</td>\n",
       "      <td>7.656405</td>\n",
       "      <td>13.455777</td>\n",
       "      <td>1.362246</td>\n",
       "      <td>6.318278</td>\n",
       "      <td>7.659834</td>\n",
       "      <td>5.344122</td>\n",
       "      <td>-0.679747</td>\n",
       "      <td>6.434314</td>\n",
       "      <td>1.083248</td>\n",
       "      <td>5.288616</td>\n",
       "      <td>1.829204</td>\n",
       "      <td>0.090444</td>\n",
       "      <td>8.099687</td>\n",
       "    </tr>\n",
       "    <tr>\n",
       "      <th>4</th>\n",
       "      <td>-1.131770</td>\n",
       "      <td>-0.681231</td>\n",
       "      <td>-0.194340</td>\n",
       "      <td>0.212714</td>\n",
       "      <td>-0.427796</td>\n",
       "      <td>-0.581219</td>\n",
       "      <td>-0.604169</td>\n",
       "      <td>-0.526157</td>\n",
       "      <td>-0.679747</td>\n",
       "      <td>-0.716805</td>\n",
       "      <td>-0.091008</td>\n",
       "      <td>-0.405769</td>\n",
       "      <td>0.584764</td>\n",
       "      <td>0.090444</td>\n",
       "      <td>-0.389572</td>\n",
       "    </tr>\n",
       "  </tbody>\n",
       "</table>\n",
       "</div>"
      ],
      "text/plain": [
       "   num_critic_for_reviews  duration  director_facebook_likes  \\\n",
       "0                4.797503  2.814318                -0.241367   \n",
       "1                1.340129  2.456819                -0.039256   \n",
       "2                3.803816  1.622653                -0.241367   \n",
       "3                5.536609  2.258208                 7.656405   \n",
       "4               -1.131770 -0.681231                -0.194340   \n",
       "\n",
       "   actor_3_facebook_likes  actor_1_facebook_likes      gross  num_voted_users  \\\n",
       "0                0.125431               -0.369902  11.160073         5.795674   \n",
       "1                0.212714                2.228319   4.168026         2.798784   \n",
       "2               -0.292328                0.296309   2.473418         1.388010   \n",
       "3               13.455777                1.362246   6.318278         7.659834   \n",
       "4                0.212714               -0.427796  -0.581219        -0.604169   \n",
       "\n",
       "   cast_total_facebook_likes  facenumber_in_poster  num_user_for_reviews  \\\n",
       "0                  -0.267871             -0.679747              7.369256   \n",
       "1                   2.128121             -0.679747              2.559467   \n",
       "2                   0.110172             -0.182725              1.913218   \n",
       "3                   5.344122             -0.679747              6.434314   \n",
       "4                  -0.526157             -0.679747             -0.716805   \n",
       "\n",
       "     budget  actor_2_facebook_likes  imdb_score  aspect_ratio  \\\n",
       "0  1.016877               -0.176884    1.295873     -0.335116   \n",
       "1  1.338521                0.829814    0.584764      0.090444   \n",
       "2  1.057721               -0.311391    0.318099      0.090444   \n",
       "3  1.083248                5.288616    1.829204      0.090444   \n",
       "4 -0.091008               -0.405769    0.584764      0.090444   \n",
       "\n",
       "   movie_facebook_likes  \n",
       "0              1.318632  \n",
       "1             -0.389572  \n",
       "2              4.010348  \n",
       "3              8.099687  \n",
       "4             -0.389572  "
      ]
     },
     "execution_count": 162,
     "metadata": {},
     "output_type": "execute_result"
    }
   ],
   "source": [
    "from sklearn.impute import SimpleImputer\n",
    "from sklearn.preprocessing import StandardScaler \n",
    "\n",
    "# impute missing values\n",
    "imp = SimpleImputer(strategy = \"most_frequent\")\n",
    "df[numeric_features] = imp.fit_transform(df[numeric_features])\n",
    "\n",
    "# use standard scaler to keep as much variance as possible (compared to minmax)\n",
    "scl = StandardScaler()\n",
    "df[numeric_features] = scl.fit_transform(df[numeric_features])\n",
    "\n",
    "print('# of Rows: ', df[numeric_features].shape[0])\n",
    "print('# of Variables: ', df[numeric_features].shape[1])\n",
    "print('Variables: ', df[numeric_features].columns.values)\n",
    "\n",
    "df[numeric_features].head()"
   ]
  },
  {
   "cell_type": "markdown",
   "metadata": {},
   "source": [
    "## Splitting Training and Testing Sets\n",
    "\n",
    "<img src=\"https://image.slidesharecdn.com/mlregression-splittingdatasets-170914113926/95/machine-learning-splitting-datasets-3-638.jpg?cb=1505389251\" width=\"60%\" style=\"float: center\">"
   ]
  },
  {
   "cell_type": "code",
   "execution_count": 163,
   "metadata": {
    "ExecuteTime": {
     "end_time": "2019-01-14T09:36:09.905004Z",
     "start_time": "2019-01-14T09:36:09.896847Z"
    }
   },
   "outputs": [],
   "source": [
    "X = df[numeric_features].drop([\"imdb_score\"], axis = 1)\n",
    "y = df['imdb_score_binned']\n",
    "\n",
    "# split training sets and testing sets\n",
    "from sklearn.model_selection import train_test_split\n",
    "X_train, X_test, y_train, y_test = train_test_split(X, y, test_size=0.2, random_state=42)"
   ]
  },
  {
   "cell_type": "markdown",
   "metadata": {},
   "source": [
    "## Random Forests\n",
    "\n",
    "    Decision Tree\n",
    "\n",
    "<img src=\"https://i.stack.imgur.com/l6r4F.jpg\" width=\"80%\" style=\"float: center\">\n",
    "\n",
    "    Random Forests\n",
    "\n",
    "<img src=\"https://cdn-images-1.medium.com/max/1600/1*i0o8mjFfCn-uD79-F1Cqkw.png\" width=\"80%\" style=\"float: center\">\n"
   ]
  },
  {
   "cell_type": "code",
   "execution_count": 164,
   "metadata": {
    "ExecuteTime": {
     "end_time": "2019-01-14T09:36:11.731077Z",
     "start_time": "2019-01-14T09:36:11.728045Z"
    }
   },
   "outputs": [],
   "source": [
    "# choose a classifier\n",
    "from sklearn.ensemble import RandomForestClassifier\n",
    "RFC = RandomForestClassifier(max_features = \"sqrt\")"
   ]
  },
  {
   "cell_type": "markdown",
   "metadata": {},
   "source": [
    "## Cross Validation\n",
    "\n",
    "<img src=\"https://upload.wikimedia.org/wikipedia/commons/1/1c/K-fold_cross_validation_EN.jpg\" width=\"60%\" style=\"float: center\">"
   ]
  },
  {
   "cell_type": "code",
   "execution_count": 184,
   "metadata": {
    "ExecuteTime": {
     "end_time": "2019-01-14T13:26:40.483076Z",
     "start_time": "2019-01-14T13:25:18.755720Z"
    }
   },
   "outputs": [
    {
     "data": {
      "text/plain": [
       "GridSearchCV(cv='warn', error_score='raise-deprecating',\n",
       "       estimator=RandomForestClassifier(bootstrap=True, class_weight=None, criterion='gini',\n",
       "            max_depth=None, max_features='sqrt', max_leaf_nodes=None,\n",
       "            min_impurity_decrease=0.0, min_impurity_split=None,\n",
       "            min_samples_leaf=1, min_samples_split=2,\n",
       "            min_weight_fraction_leaf=0.0, n_estimators='warn', n_jobs=None,\n",
       "            oob_score=False, random_state=None, verbose=0,\n",
       "            warm_start=False),\n",
       "       fit_params=None, iid='warn', n_jobs=None,\n",
       "       param_grid={'max_depth': [5, 8, 25], 'n_estimators': [800, 1200]},\n",
       "       pre_dispatch='2*n_jobs', refit=True, return_train_score='warn',\n",
       "       scoring=None, verbose=0)"
      ]
     },
     "execution_count": 184,
     "metadata": {},
     "output_type": "execute_result"
    }
   ],
   "source": [
    "from sklearn.model_selection import GridSearchCV\n",
    "parameters = {\"max_depth\":[5, 8, 25], \"n_estimators\":[800, 1200]}\n",
    "clf = GridSearchCV(RFC, parameters)\n",
    "clf.fit(X, y)"
   ]
  },
  {
   "cell_type": "code",
   "execution_count": 166,
   "metadata": {
    "ExecuteTime": {
     "end_time": "2019-01-14T09:37:58.352422Z",
     "start_time": "2019-01-14T09:37:58.348606Z"
    }
   },
   "outputs": [
    {
     "name": "stdout",
     "output_type": "stream",
     "text": [
      "Index(['num_critic_for_reviews', 'duration', 'director_facebook_likes',\n",
      "       'actor_3_facebook_likes', 'actor_1_facebook_likes', 'gross',\n",
      "       'num_voted_users', 'cast_total_facebook_likes', 'facenumber_in_poster',\n",
      "       'num_user_for_reviews', 'budget', 'actor_2_facebook_likes',\n",
      "       'aspect_ratio', 'movie_facebook_likes'],\n",
      "      dtype='object')\n",
      "0.6888756692444973\n",
      "{'max_depth': 25, 'n_estimators': 1200}\n",
      "RandomForestClassifier(bootstrap=True, class_weight=None, criterion='gini',\n",
      "            max_depth=25, max_features='sqrt', max_leaf_nodes=None,\n",
      "            min_impurity_decrease=0.0, min_impurity_split=None,\n",
      "            min_samples_leaf=1, min_samples_split=2,\n",
      "            min_weight_fraction_leaf=0.0, n_estimators=1200, n_jobs=None,\n",
      "            oob_score=False, random_state=None, verbose=0,\n",
      "            warm_start=False)\n"
     ]
    }
   ],
   "source": [
    "print(X.columns)\n",
    "print(clf.best_score_)\n",
    "print(clf.best_params_)\n",
    "print(clf.best_estimator_)\n",
    "\n",
    "# for k, v in sorted(clf.cv_results_.items()):\n",
    "#     print(k, v)"
   ]
  },
  {
   "cell_type": "markdown",
   "metadata": {},
   "source": [
    "# Adding Categorical Features"
   ]
  },
  {
   "cell_type": "code",
   "execution_count": 167,
   "metadata": {
    "ExecuteTime": {
     "end_time": "2019-01-14T09:37:58.357861Z",
     "start_time": "2019-01-14T09:37:58.354482Z"
    }
   },
   "outputs": [],
   "source": [
    "df_clean = df[numeric_features]"
   ]
  },
  {
   "cell_type": "markdown",
   "metadata": {},
   "source": [
    "## Dummy Coding Movie Genres"
   ]
  },
  {
   "cell_type": "code",
   "execution_count": 168,
   "metadata": {
    "ExecuteTime": {
     "end_time": "2019-01-14T09:37:58.864178Z",
     "start_time": "2019-01-14T09:37:58.360007Z"
    }
   },
   "outputs": [
    {
     "name": "stdout",
     "output_type": "stream",
     "text": [
      "['Sci-Fi', 'Comedy', 'Music', 'Adventure', 'Action', 'Horror', 'Short', 'News', 'Animation', 'Biography', 'Fantasy', 'Reality-TV', 'Mystery', 'Film-Noir', 'Family', 'Musical', 'Romance', 'Thriller', 'Drama', 'Western', 'Sport', 'Documentary', 'Crime', 'History', 'Game-Show', 'War']\n"
     ]
    },
    {
     "data": {
      "text/html": [
       "<div>\n",
       "<style scoped>\n",
       "    .dataframe tbody tr th:only-of-type {\n",
       "        vertical-align: middle;\n",
       "    }\n",
       "\n",
       "    .dataframe tbody tr th {\n",
       "        vertical-align: top;\n",
       "    }\n",
       "\n",
       "    .dataframe thead th {\n",
       "        text-align: right;\n",
       "    }\n",
       "</style>\n",
       "<table border=\"1\" class=\"dataframe\">\n",
       "  <thead>\n",
       "    <tr style=\"text-align: right;\">\n",
       "      <th></th>\n",
       "      <th>num_critic_for_reviews</th>\n",
       "      <th>duration</th>\n",
       "      <th>director_facebook_likes</th>\n",
       "      <th>actor_3_facebook_likes</th>\n",
       "      <th>actor_1_facebook_likes</th>\n",
       "      <th>gross</th>\n",
       "      <th>num_voted_users</th>\n",
       "      <th>cast_total_facebook_likes</th>\n",
       "      <th>facenumber_in_poster</th>\n",
       "      <th>num_user_for_reviews</th>\n",
       "      <th>...</th>\n",
       "      <th>Romance</th>\n",
       "      <th>Thriller</th>\n",
       "      <th>Drama</th>\n",
       "      <th>Western</th>\n",
       "      <th>Sport</th>\n",
       "      <th>Documentary</th>\n",
       "      <th>Crime</th>\n",
       "      <th>History</th>\n",
       "      <th>Game-Show</th>\n",
       "      <th>War</th>\n",
       "    </tr>\n",
       "  </thead>\n",
       "  <tbody>\n",
       "    <tr>\n",
       "      <th>0</th>\n",
       "      <td>4.797503</td>\n",
       "      <td>2.814318</td>\n",
       "      <td>-0.241367</td>\n",
       "      <td>0.125431</td>\n",
       "      <td>-0.369902</td>\n",
       "      <td>11.160073</td>\n",
       "      <td>5.795674</td>\n",
       "      <td>-0.267871</td>\n",
       "      <td>-0.679747</td>\n",
       "      <td>7.369256</td>\n",
       "      <td>...</td>\n",
       "      <td>0</td>\n",
       "      <td>0</td>\n",
       "      <td>0</td>\n",
       "      <td>0</td>\n",
       "      <td>0</td>\n",
       "      <td>0</td>\n",
       "      <td>0</td>\n",
       "      <td>0</td>\n",
       "      <td>0</td>\n",
       "      <td>0</td>\n",
       "    </tr>\n",
       "    <tr>\n",
       "      <th>1</th>\n",
       "      <td>1.340129</td>\n",
       "      <td>2.456819</td>\n",
       "      <td>-0.039256</td>\n",
       "      <td>0.212714</td>\n",
       "      <td>2.228319</td>\n",
       "      <td>4.168026</td>\n",
       "      <td>2.798784</td>\n",
       "      <td>2.128121</td>\n",
       "      <td>-0.679747</td>\n",
       "      <td>2.559467</td>\n",
       "      <td>...</td>\n",
       "      <td>0</td>\n",
       "      <td>0</td>\n",
       "      <td>0</td>\n",
       "      <td>0</td>\n",
       "      <td>0</td>\n",
       "      <td>0</td>\n",
       "      <td>0</td>\n",
       "      <td>0</td>\n",
       "      <td>0</td>\n",
       "      <td>0</td>\n",
       "    </tr>\n",
       "    <tr>\n",
       "      <th>2</th>\n",
       "      <td>3.803816</td>\n",
       "      <td>1.622653</td>\n",
       "      <td>-0.241367</td>\n",
       "      <td>-0.292328</td>\n",
       "      <td>0.296309</td>\n",
       "      <td>2.473418</td>\n",
       "      <td>1.388010</td>\n",
       "      <td>0.110172</td>\n",
       "      <td>-0.182725</td>\n",
       "      <td>1.913218</td>\n",
       "      <td>...</td>\n",
       "      <td>0</td>\n",
       "      <td>1</td>\n",
       "      <td>0</td>\n",
       "      <td>0</td>\n",
       "      <td>0</td>\n",
       "      <td>0</td>\n",
       "      <td>0</td>\n",
       "      <td>0</td>\n",
       "      <td>0</td>\n",
       "      <td>0</td>\n",
       "    </tr>\n",
       "    <tr>\n",
       "      <th>3</th>\n",
       "      <td>5.536609</td>\n",
       "      <td>2.258208</td>\n",
       "      <td>7.656405</td>\n",
       "      <td>13.455777</td>\n",
       "      <td>1.362246</td>\n",
       "      <td>6.318278</td>\n",
       "      <td>7.659834</td>\n",
       "      <td>5.344122</td>\n",
       "      <td>-0.679747</td>\n",
       "      <td>6.434314</td>\n",
       "      <td>...</td>\n",
       "      <td>0</td>\n",
       "      <td>1</td>\n",
       "      <td>0</td>\n",
       "      <td>0</td>\n",
       "      <td>0</td>\n",
       "      <td>0</td>\n",
       "      <td>0</td>\n",
       "      <td>0</td>\n",
       "      <td>0</td>\n",
       "      <td>0</td>\n",
       "    </tr>\n",
       "    <tr>\n",
       "      <th>4</th>\n",
       "      <td>-1.131770</td>\n",
       "      <td>-0.681231</td>\n",
       "      <td>-0.194340</td>\n",
       "      <td>0.212714</td>\n",
       "      <td>-0.427796</td>\n",
       "      <td>-0.581219</td>\n",
       "      <td>-0.604169</td>\n",
       "      <td>-0.526157</td>\n",
       "      <td>-0.679747</td>\n",
       "      <td>-0.716805</td>\n",
       "      <td>...</td>\n",
       "      <td>0</td>\n",
       "      <td>0</td>\n",
       "      <td>0</td>\n",
       "      <td>0</td>\n",
       "      <td>0</td>\n",
       "      <td>1</td>\n",
       "      <td>0</td>\n",
       "      <td>0</td>\n",
       "      <td>0</td>\n",
       "      <td>0</td>\n",
       "    </tr>\n",
       "  </tbody>\n",
       "</table>\n",
       "<p>5 rows × 41 columns</p>\n",
       "</div>"
      ],
      "text/plain": [
       "   num_critic_for_reviews  duration  director_facebook_likes  \\\n",
       "0                4.797503  2.814318                -0.241367   \n",
       "1                1.340129  2.456819                -0.039256   \n",
       "2                3.803816  1.622653                -0.241367   \n",
       "3                5.536609  2.258208                 7.656405   \n",
       "4               -1.131770 -0.681231                -0.194340   \n",
       "\n",
       "   actor_3_facebook_likes  actor_1_facebook_likes      gross  num_voted_users  \\\n",
       "0                0.125431               -0.369902  11.160073         5.795674   \n",
       "1                0.212714                2.228319   4.168026         2.798784   \n",
       "2               -0.292328                0.296309   2.473418         1.388010   \n",
       "3               13.455777                1.362246   6.318278         7.659834   \n",
       "4                0.212714               -0.427796  -0.581219        -0.604169   \n",
       "\n",
       "   cast_total_facebook_likes  facenumber_in_poster  num_user_for_reviews ...   \\\n",
       "0                  -0.267871             -0.679747              7.369256 ...    \n",
       "1                   2.128121             -0.679747              2.559467 ...    \n",
       "2                   0.110172             -0.182725              1.913218 ...    \n",
       "3                   5.344122             -0.679747              6.434314 ...    \n",
       "4                  -0.526157             -0.679747             -0.716805 ...    \n",
       "\n",
       "   Romance  Thriller  Drama  Western  Sport  Documentary  Crime  History  \\\n",
       "0        0         0      0        0      0            0      0        0   \n",
       "1        0         0      0        0      0            0      0        0   \n",
       "2        0         1      0        0      0            0      0        0   \n",
       "3        0         1      0        0      0            0      0        0   \n",
       "4        0         0      0        0      0            1      0        0   \n",
       "\n",
       "   Game-Show  War  \n",
       "0          0    0  \n",
       "1          0    0  \n",
       "2          0    0  \n",
       "3          0    0  \n",
       "4          0    0  \n",
       "\n",
       "[5 rows x 41 columns]"
      ]
     },
     "execution_count": 168,
     "metadata": {},
     "output_type": "execute_result"
    }
   ],
   "source": [
    "def pipe_flatten_names(keywords):\n",
    "    return keywords.split('|')\n",
    "\n",
    "liste_genres = set()\n",
    "for s in df['genres'].str.split('|'):\n",
    "    liste_genres = set().union(s, liste_genres)\n",
    "\n",
    "liste_genres = list(liste_genres)\n",
    "print(liste_genres)\n",
    "\n",
    "for genre in liste_genres:\n",
    "    df_clean[genre] = df['genres'].str.contains(genre).apply(lambda x:1 if x else 0)\n",
    "    \n",
    "df_clean.head()"
   ]
  },
  {
   "cell_type": "markdown",
   "metadata": {},
   "source": [
    "## Running Random Forests"
   ]
  },
  {
   "cell_type": "code",
   "execution_count": 169,
   "metadata": {
    "ExecuteTime": {
     "end_time": "2019-01-14T09:39:28.535595Z",
     "start_time": "2019-01-14T09:37:58.866323Z"
    }
   },
   "outputs": [
    {
     "name": "stdout",
     "output_type": "stream",
     "text": [
      "Index(['num_critic_for_reviews', 'duration', 'director_facebook_likes',\n",
      "       'actor_3_facebook_likes', 'actor_1_facebook_likes', 'gross',\n",
      "       'num_voted_users', 'cast_total_facebook_likes', 'facenumber_in_poster',\n",
      "       'num_user_for_reviews', 'budget', 'actor_2_facebook_likes',\n",
      "       'aspect_ratio', 'movie_facebook_likes', 'Sci-Fi', 'Comedy', 'Music',\n",
      "       'Adventure', 'Action', 'Horror', 'Short', 'News', 'Animation',\n",
      "       'Biography', 'Fantasy', 'Reality-TV', 'Mystery', 'Film-Noir', 'Family',\n",
      "       'Musical', 'Romance', 'Thriller', 'Drama', 'Western', 'Sport',\n",
      "       'Documentary', 'Crime', 'History', 'Game-Show', 'War'],\n",
      "      dtype='object')\n",
      "0.7170335117985326\n",
      "{'max_depth': 25, 'n_estimators': 800}\n",
      "RandomForestClassifier(bootstrap=True, class_weight=None, criterion='gini',\n",
      "            max_depth=25, max_features='sqrt', max_leaf_nodes=None,\n",
      "            min_impurity_decrease=0.0, min_impurity_split=None,\n",
      "            min_samples_leaf=1, min_samples_split=2,\n",
      "            min_weight_fraction_leaf=0.0, n_estimators=800, n_jobs=None,\n",
      "            oob_score=False, random_state=None, verbose=0,\n",
      "            warm_start=False)\n"
     ]
    }
   ],
   "source": [
    "X = df_clean.drop([\"imdb_score\"], axis = 1)\n",
    "y = df['imdb_score_binned']\n",
    "\n",
    "# split training sets and testing sets\n",
    "from sklearn.model_selection import train_test_split\n",
    "X_train, X_test, y_train, y_test = train_test_split(X, y, test_size=0.2, random_state=42)\n",
    "\n",
    "# choose a classifier\n",
    "from sklearn.ensemble import RandomForestClassifier\n",
    "RFC = RandomForestClassifier(max_features = \"sqrt\")\n",
    "\n",
    "from sklearn.model_selection import GridSearchCV\n",
    "parameters = {\"max_depth\":[5, 8, 25], \"n_estimators\":[800, 1200]}\n",
    "clf = GridSearchCV(RFC, parameters)\n",
    "clf.fit(X, y)\n",
    "\n",
    "print(X.columns)\n",
    "print(clf.best_score_)\n",
    "print(clf.best_params_)\n",
    "print(clf.best_estimator_)"
   ]
  },
  {
   "cell_type": "code",
   "execution_count": 170,
   "metadata": {
    "ExecuteTime": {
     "end_time": "2019-01-14T09:39:28.548748Z",
     "start_time": "2019-01-14T09:39:28.540796Z"
    }
   },
   "outputs": [],
   "source": [
    "# Adding other categorical features\n",
    "for feature in ['content_rating', 'color']:\n",
    "    df_clean = pd.concat([df_clean, pd.get_dummies(df[feature], prefix = feature, dummy_na = True)], axis = 1)\n"
   ]
  },
  {
   "cell_type": "code",
   "execution_count": 171,
   "metadata": {
    "ExecuteTime": {
     "end_time": "2019-01-14T09:40:53.796233Z",
     "start_time": "2019-01-14T09:39:28.551024Z"
    }
   },
   "outputs": [
    {
     "name": "stdout",
     "output_type": "stream",
     "text": [
      "Index(['num_critic_for_reviews', 'duration', 'director_facebook_likes',\n",
      "       'actor_3_facebook_likes', 'actor_1_facebook_likes', 'gross',\n",
      "       'num_voted_users', 'cast_total_facebook_likes', 'facenumber_in_poster',\n",
      "       'num_user_for_reviews', 'budget', 'actor_2_facebook_likes',\n",
      "       'aspect_ratio', 'movie_facebook_likes', 'Sci-Fi', 'Comedy', 'Music',\n",
      "       'Adventure', 'Action', 'Horror', 'Short', 'News', 'Animation',\n",
      "       'Biography', 'Fantasy', 'Reality-TV', 'Mystery', 'Film-Noir', 'Family',\n",
      "       'Musical', 'Romance', 'Thriller', 'Drama', 'Western', 'Sport',\n",
      "       'Documentary', 'Crime', 'History', 'Game-Show', 'War',\n",
      "       'content_rating_Approved', 'content_rating_G', 'content_rating_GP',\n",
      "       'content_rating_M', 'content_rating_NC-17', 'content_rating_Not Rated',\n",
      "       'content_rating_PG', 'content_rating_PG-13', 'content_rating_Passed',\n",
      "       'content_rating_R', 'content_rating_TV-14', 'content_rating_TV-G',\n",
      "       'content_rating_TV-MA', 'content_rating_TV-PG', 'content_rating_TV-Y',\n",
      "       'content_rating_TV-Y7', 'content_rating_Unrated', 'content_rating_X',\n",
      "       'content_rating_nan', 'color_ Black and White', 'color_Color',\n",
      "       'color_nan'],\n",
      "      dtype='object')\n",
      "0.7243704144358517\n",
      "{'max_depth': 25, 'n_estimators': 1200}\n",
      "RandomForestClassifier(bootstrap=True, class_weight=None, criterion='gini',\n",
      "            max_depth=25, max_features='sqrt', max_leaf_nodes=None,\n",
      "            min_impurity_decrease=0.0, min_impurity_split=None,\n",
      "            min_samples_leaf=1, min_samples_split=2,\n",
      "            min_weight_fraction_leaf=0.0, n_estimators=1200, n_jobs=None,\n",
      "            oob_score=False, random_state=None, verbose=0,\n",
      "            warm_start=False)\n"
     ]
    }
   ],
   "source": [
    "X = df_clean.drop([\"imdb_score\"], axis = 1)\n",
    "y = df['imdb_score_binned']\n",
    "\n",
    "# split training sets and testing sets\n",
    "from sklearn.model_selection import train_test_split\n",
    "X_train, X_test, y_train, y_test = train_test_split(X, y, test_size=0.2, random_state=42)\n",
    "\n",
    "# choose a classifier\n",
    "from sklearn.ensemble import RandomForestClassifier\n",
    "RFC = RandomForestClassifier(max_features = \"sqrt\")\n",
    "\n",
    "from sklearn.model_selection import GridSearchCV\n",
    "parameters = {\"max_depth\":[5, 8, 25], \"n_estimators\":[800, 1200]}\n",
    "clf = GridSearchCV(RFC, parameters)\n",
    "clf.fit(X, y)\n",
    "\n",
    "print(X.columns)\n",
    "print(clf.best_score_)\n",
    "print(clf.best_params_)\n",
    "print(clf.best_estimator_)"
   ]
  },
  {
   "cell_type": "code",
   "execution_count": null,
   "metadata": {},
   "outputs": [],
   "source": []
  },
  {
   "cell_type": "markdown",
   "metadata": {},
   "source": [
    "# More Features = Better Performance ?\n",
    "## Dummy Coding Director/Actor Names"
   ]
  },
  {
   "cell_type": "code",
   "execution_count": 151,
   "metadata": {
    "ExecuteTime": {
     "end_time": "2019-01-14T08:17:02.154309Z",
     "start_time": "2019-01-14T08:17:02.058808Z"
    }
   },
   "outputs": [
    {
     "data": {
      "text/html": [
       "<div>\n",
       "<style scoped>\n",
       "    .dataframe tbody tr th:only-of-type {\n",
       "        vertical-align: middle;\n",
       "    }\n",
       "\n",
       "    .dataframe tbody tr th {\n",
       "        vertical-align: top;\n",
       "    }\n",
       "\n",
       "    .dataframe thead th {\n",
       "        text-align: right;\n",
       "    }\n",
       "</style>\n",
       "<table border=\"1\" class=\"dataframe\">\n",
       "  <thead>\n",
       "    <tr style=\"text-align: right;\">\n",
       "      <th></th>\n",
       "      <th>num_critic_for_reviews</th>\n",
       "      <th>duration</th>\n",
       "      <th>director_facebook_likes</th>\n",
       "      <th>actor_3_facebook_likes</th>\n",
       "      <th>actor_1_facebook_likes</th>\n",
       "      <th>gross</th>\n",
       "      <th>num_voted_users</th>\n",
       "      <th>cast_total_facebook_likes</th>\n",
       "      <th>facenumber_in_poster</th>\n",
       "      <th>num_user_for_reviews</th>\n",
       "      <th>...</th>\n",
       "      <th>director_name_Zack Ward</th>\n",
       "      <th>director_name_Zackary Adler</th>\n",
       "      <th>director_name_Zak Penn</th>\n",
       "      <th>director_name_Zal Batmanglij</th>\n",
       "      <th>director_name_Zoran Lisinac</th>\n",
       "      <th>director_name_Álex de la Iglesia</th>\n",
       "      <th>director_name_Émile Gaudreault</th>\n",
       "      <th>director_name_Éric Tessier</th>\n",
       "      <th>director_name_Étienne Faure</th>\n",
       "      <th>director_name_nan</th>\n",
       "    </tr>\n",
       "  </thead>\n",
       "  <tbody>\n",
       "    <tr>\n",
       "      <th>0</th>\n",
       "      <td>4.797503</td>\n",
       "      <td>2.814318</td>\n",
       "      <td>-0.241367</td>\n",
       "      <td>0.125431</td>\n",
       "      <td>-0.369902</td>\n",
       "      <td>11.160073</td>\n",
       "      <td>5.795674</td>\n",
       "      <td>-0.267871</td>\n",
       "      <td>-0.679747</td>\n",
       "      <td>7.369256</td>\n",
       "      <td>...</td>\n",
       "      <td>0</td>\n",
       "      <td>0</td>\n",
       "      <td>0</td>\n",
       "      <td>0</td>\n",
       "      <td>0</td>\n",
       "      <td>0</td>\n",
       "      <td>0</td>\n",
       "      <td>0</td>\n",
       "      <td>0</td>\n",
       "      <td>0</td>\n",
       "    </tr>\n",
       "    <tr>\n",
       "      <th>1</th>\n",
       "      <td>1.340129</td>\n",
       "      <td>2.456819</td>\n",
       "      <td>-0.039256</td>\n",
       "      <td>0.212714</td>\n",
       "      <td>2.228319</td>\n",
       "      <td>4.168026</td>\n",
       "      <td>2.798784</td>\n",
       "      <td>2.128121</td>\n",
       "      <td>-0.679747</td>\n",
       "      <td>2.559467</td>\n",
       "      <td>...</td>\n",
       "      <td>0</td>\n",
       "      <td>0</td>\n",
       "      <td>0</td>\n",
       "      <td>0</td>\n",
       "      <td>0</td>\n",
       "      <td>0</td>\n",
       "      <td>0</td>\n",
       "      <td>0</td>\n",
       "      <td>0</td>\n",
       "      <td>0</td>\n",
       "    </tr>\n",
       "    <tr>\n",
       "      <th>2</th>\n",
       "      <td>3.803816</td>\n",
       "      <td>1.622653</td>\n",
       "      <td>-0.241367</td>\n",
       "      <td>-0.292328</td>\n",
       "      <td>0.296309</td>\n",
       "      <td>2.473418</td>\n",
       "      <td>1.388010</td>\n",
       "      <td>0.110172</td>\n",
       "      <td>-0.182725</td>\n",
       "      <td>1.913218</td>\n",
       "      <td>...</td>\n",
       "      <td>0</td>\n",
       "      <td>0</td>\n",
       "      <td>0</td>\n",
       "      <td>0</td>\n",
       "      <td>0</td>\n",
       "      <td>0</td>\n",
       "      <td>0</td>\n",
       "      <td>0</td>\n",
       "      <td>0</td>\n",
       "      <td>0</td>\n",
       "    </tr>\n",
       "    <tr>\n",
       "      <th>3</th>\n",
       "      <td>5.536609</td>\n",
       "      <td>2.258208</td>\n",
       "      <td>7.656405</td>\n",
       "      <td>13.455777</td>\n",
       "      <td>1.362246</td>\n",
       "      <td>6.318278</td>\n",
       "      <td>7.659834</td>\n",
       "      <td>5.344122</td>\n",
       "      <td>-0.679747</td>\n",
       "      <td>6.434314</td>\n",
       "      <td>...</td>\n",
       "      <td>0</td>\n",
       "      <td>0</td>\n",
       "      <td>0</td>\n",
       "      <td>0</td>\n",
       "      <td>0</td>\n",
       "      <td>0</td>\n",
       "      <td>0</td>\n",
       "      <td>0</td>\n",
       "      <td>0</td>\n",
       "      <td>0</td>\n",
       "    </tr>\n",
       "    <tr>\n",
       "      <th>4</th>\n",
       "      <td>-1.131770</td>\n",
       "      <td>-0.681231</td>\n",
       "      <td>-0.194340</td>\n",
       "      <td>0.212714</td>\n",
       "      <td>-0.427796</td>\n",
       "      <td>-0.581219</td>\n",
       "      <td>-0.604169</td>\n",
       "      <td>-0.526157</td>\n",
       "      <td>-0.679747</td>\n",
       "      <td>-0.716805</td>\n",
       "      <td>...</td>\n",
       "      <td>0</td>\n",
       "      <td>0</td>\n",
       "      <td>0</td>\n",
       "      <td>0</td>\n",
       "      <td>0</td>\n",
       "      <td>0</td>\n",
       "      <td>0</td>\n",
       "      <td>0</td>\n",
       "      <td>0</td>\n",
       "      <td>0</td>\n",
       "    </tr>\n",
       "  </tbody>\n",
       "</table>\n",
       "<p>5 rows × 2440 columns</p>\n",
       "</div>"
      ],
      "text/plain": [
       "   num_critic_for_reviews  duration  director_facebook_likes  \\\n",
       "0                4.797503  2.814318                -0.241367   \n",
       "1                1.340129  2.456819                -0.039256   \n",
       "2                3.803816  1.622653                -0.241367   \n",
       "3                5.536609  2.258208                 7.656405   \n",
       "4               -1.131770 -0.681231                -0.194340   \n",
       "\n",
       "   actor_3_facebook_likes  actor_1_facebook_likes      gross  num_voted_users  \\\n",
       "0                0.125431               -0.369902  11.160073         5.795674   \n",
       "1                0.212714                2.228319   4.168026         2.798784   \n",
       "2               -0.292328                0.296309   2.473418         1.388010   \n",
       "3               13.455777                1.362246   6.318278         7.659834   \n",
       "4                0.212714               -0.427796  -0.581219        -0.604169   \n",
       "\n",
       "   cast_total_facebook_likes  facenumber_in_poster  num_user_for_reviews  \\\n",
       "0                  -0.267871             -0.679747              7.369256   \n",
       "1                   2.128121             -0.679747              2.559467   \n",
       "2                   0.110172             -0.182725              1.913218   \n",
       "3                   5.344122             -0.679747              6.434314   \n",
       "4                  -0.526157             -0.679747             -0.716805   \n",
       "\n",
       "         ...          director_name_Zack Ward  director_name_Zackary Adler  \\\n",
       "0        ...                                0                            0   \n",
       "1        ...                                0                            0   \n",
       "2        ...                                0                            0   \n",
       "3        ...                                0                            0   \n",
       "4        ...                                0                            0   \n",
       "\n",
       "   director_name_Zak Penn  director_name_Zal Batmanglij  \\\n",
       "0                       0                             0   \n",
       "1                       0                             0   \n",
       "2                       0                             0   \n",
       "3                       0                             0   \n",
       "4                       0                             0   \n",
       "\n",
       "   director_name_Zoran Lisinac  director_name_Álex de la Iglesia  \\\n",
       "0                            0                                 0   \n",
       "1                            0                                 0   \n",
       "2                            0                                 0   \n",
       "3                            0                                 0   \n",
       "4                            0                                 0   \n",
       "\n",
       "   director_name_Émile Gaudreault  director_name_Éric Tessier  \\\n",
       "0                               0                           0   \n",
       "1                               0                           0   \n",
       "2                               0                           0   \n",
       "3                               0                           0   \n",
       "4                               0                           0   \n",
       "\n",
       "   director_name_Étienne Faure  director_name_nan  \n",
       "0                            0                  0  \n",
       "1                            0                  0  \n",
       "2                            0                  0  \n",
       "3                            0                  0  \n",
       "4                            0                  0  \n",
       "\n",
       "[5 rows x 2440 columns]"
      ]
     },
     "execution_count": 151,
     "metadata": {},
     "output_type": "execute_result"
    }
   ],
   "source": [
    "# Adding Director/Actor Names, Country, Languages\n",
    "for feature in ['director_name']:\n",
    "    df_clean = pd.concat([df_clean, pd.get_dummies(df[feature], prefix = feature, dummy_na = True)], axis = 1)\n",
    "\n",
    "# Adding Keywords\n",
    "\n",
    "# def pipe_flatten_names(keywords):\n",
    "#     return keywords.split('|')\n",
    "\n",
    "# liste_keywords = set()\n",
    "# for s in df['plot_keywords'].str.split('|'):\n",
    "#     if type(s) == list:\n",
    "#         liste_keywords = set().union(s, liste_keywords)\n",
    "\n",
    "# liste_keywords = list(liste_keywords)\n",
    "# print(liste_keywords[:10])\n",
    "\n",
    "# for keyword in liste_keywords:\n",
    "#     df_reduced[keyword] = df['plot_keywords'].str.contains(keyword).apply(lambda x:1 if x else 0)\n",
    "\n",
    "df_clean.head()"
   ]
  },
  {
   "cell_type": "markdown",
   "metadata": {},
   "source": [
    "## Running Random Forests"
   ]
  },
  {
   "cell_type": "code",
   "execution_count": 152,
   "metadata": {
    "ExecuteTime": {
     "end_time": "2019-01-14T08:19:24.503289Z",
     "start_time": "2019-01-14T08:17:02.156326Z"
    }
   },
   "outputs": [
    {
     "name": "stdout",
     "output_type": "stream",
     "text": [
      "Index(['num_critic_for_reviews', 'duration', 'director_facebook_likes',\n",
      "       'actor_3_facebook_likes', 'actor_1_facebook_likes', 'gross',\n",
      "       'num_voted_users', 'cast_total_facebook_likes', 'facenumber_in_poster',\n",
      "       'num_user_for_reviews',\n",
      "       ...\n",
      "       'director_name_Zack Ward', 'director_name_Zackary Adler',\n",
      "       'director_name_Zak Penn', 'director_name_Zal Batmanglij',\n",
      "       'director_name_Zoran Lisinac', 'director_name_Álex de la Iglesia',\n",
      "       'director_name_Émile Gaudreault', 'director_name_Éric Tessier',\n",
      "       'director_name_Étienne Faure', 'director_name_nan'],\n",
      "      dtype='object', length=2439)\n",
      "0.6829268292682927\n",
      "{'max_depth': 25, 'n_estimators': 800}\n",
      "RandomForestClassifier(bootstrap=True, class_weight=None, criterion='gini',\n",
      "            max_depth=25, max_features='sqrt', max_leaf_nodes=None,\n",
      "            min_impurity_decrease=0.0, min_impurity_split=None,\n",
      "            min_samples_leaf=1, min_samples_split=2,\n",
      "            min_weight_fraction_leaf=0.0, n_estimators=800, n_jobs=None,\n",
      "            oob_score=False, random_state=None, verbose=0,\n",
      "            warm_start=False)\n"
     ]
    }
   ],
   "source": [
    "X = df_clean.drop([\"imdb_score\"], axis = 1)\n",
    "y = df['imdb_score_binned']\n",
    "\n",
    "# split training sets and testing sets\n",
    "from sklearn.model_selection import train_test_split\n",
    "X_train, X_test, y_train, y_test = train_test_split(X, y, test_size=0.2, random_state=42)\n",
    "\n",
    "# choose a classifier\n",
    "from sklearn.ensemble import RandomForestClassifier\n",
    "RFC = RandomForestClassifier(max_features = \"sqrt\")\n",
    "\n",
    "from sklearn.model_selection import GridSearchCV\n",
    "parameters = {\"max_depth\":[5, 8, 25], \"n_estimators\":[800, 1200]}\n",
    "clf = GridSearchCV(RFC, parameters)\n",
    "clf.fit(X, y)\n",
    "\n",
    "print(X.columns)\n",
    "print(clf.best_score_)\n",
    "print(clf.best_params_)\n",
    "print(clf.best_estimator_)"
   ]
  },
  {
   "cell_type": "code",
   "execution_count": null,
   "metadata": {},
   "outputs": [],
   "source": []
  },
  {
   "cell_type": "code",
   "execution_count": null,
   "metadata": {},
   "outputs": [],
   "source": []
  },
  {
   "cell_type": "code",
   "execution_count": null,
   "metadata": {},
   "outputs": [],
   "source": []
  }
 ],
 "metadata": {
  "kernelspec": {
   "display_name": "Python 3",
   "language": "python",
   "name": "python3"
  },
  "language_info": {
   "codemirror_mode": {
    "name": "ipython",
    "version": 3
   },
   "file_extension": ".py",
   "mimetype": "text/x-python",
   "name": "python",
   "nbconvert_exporter": "python",
   "pygments_lexer": "ipython3",
   "version": "3.7.2"
  },
  "toc": {
   "base_numbering": 1,
   "nav_menu": {},
   "number_sections": true,
   "sideBar": true,
   "skip_h1_title": false,
   "title_cell": "Table of Contents",
   "title_sidebar": "Contents",
   "toc_cell": true,
   "toc_position": {
    "height": "397.5px",
    "left": "796.997px",
    "top": "109.705px",
    "width": "319.132px"
   },
   "toc_section_display": true,
   "toc_window_display": true
  },
  "varInspector": {
   "cols": {
    "lenName": 16,
    "lenType": 16,
    "lenVar": 40
   },
   "kernels_config": {
    "python": {
     "delete_cmd_postfix": "",
     "delete_cmd_prefix": "del ",
     "library": "var_list.py",
     "varRefreshCmd": "print(var_dic_list())"
    },
    "r": {
     "delete_cmd_postfix": ") ",
     "delete_cmd_prefix": "rm(",
     "library": "var_list.r",
     "varRefreshCmd": "cat(var_dic_list()) "
    }
   },
   "types_to_exclude": [
    "module",
    "function",
    "builtin_function_or_method",
    "instance",
    "_Feature"
   ],
   "window_display": false
  }
 },
 "nbformat": 4,
 "nbformat_minor": 2
}
