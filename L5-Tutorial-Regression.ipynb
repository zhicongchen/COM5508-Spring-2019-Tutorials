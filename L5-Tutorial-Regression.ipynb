{
 "cells": [
  {
   "cell_type": "markdown",
   "metadata": {},
   "source": [
    "<p style=\"text-align:center; font-weight:bolder; font-size: 2em\">\n",
    "    L5-Tutorial-Regression\n",
    "</p>\n",
    "<p style=\"text-align:center; font-family:courier; font-size: 110%\">\n",
    "    <br>18 Feb 2019\n",
    "    <br>COM5508 Media Data Analytics\n",
    "    <br>Department of Media and Communication\n",
    "    <br>City University of Hong Kong\n",
    "</p>"
   ]
  },
  {
   "cell_type": "markdown",
   "metadata": {},
   "source": [
    "# Loading DataFrame from CSV"
   ]
  },
  {
   "cell_type": "code",
   "execution_count": 1,
   "metadata": {},
   "outputs": [],
   "source": [
    "# import packages\n",
    "import pandas as pd\n",
    "import numpy as np\n",
    "import warnings; warnings.filterwarnings('ignore')\n",
    "\n",
    "# Read data from file\n",
    "df = pd.read_csv('./movie_metadata.csv')\n",
    "\n",
    "# Handling missing values and duplicates\n",
    "df = df.dropna()\n",
    "df = df.drop_duplicates()"
   ]
  },
  {
   "cell_type": "markdown",
   "metadata": {},
   "source": [
    "# Linear Regression\n",
    "\n",
    "https://scikit-learn.org/stable/modules/generated/sklearn.linear_model.LinearRegression.html"
   ]
  },
  {
   "cell_type": "code",
   "execution_count": 2,
   "metadata": {},
   "outputs": [
    {
     "name": "stdout",
     "output_type": "stream",
     "text": [
      "['cast_total_facebook_likes', 'actor_2_facebook_likes', 'budget', 'num_voted_users', 'director_facebook_likes', 'actor_3_facebook_likes', 'num_user_for_reviews', 'movie_facebook_likes', 'gross', 'duration', 'num_critic_for_reviews', 'actor_1_facebook_likes']\n"
     ]
    }
   ],
   "source": [
    "feature_list = list(set(df._get_numeric_data().columns) - set(['imdb_score', 'title_year', 'aspect_ratio', 'facenumber_in_poster']))\n",
    "\n",
    "print(feature_list)"
   ]
  },
  {
   "cell_type": "code",
   "execution_count": 3,
   "metadata": {},
   "outputs": [
    {
     "name": "stdout",
     "output_type": "stream",
     "text": [
      "R2 using X:  0.32887108259099884\n",
      "Intercept: 4.845552333100143\n",
      "Coefficients: [-7.63585214e-05  7.81585036e-05 -5.44577938e-11  3.98389880e-06\n",
      "  7.74644917e-06  7.34713977e-05 -5.55919146e-04 -2.73643258e-06\n",
      " -1.75853358e-09  1.18533101e-02  1.57563094e-03  7.67850557e-05]\n",
      "R2 using X_log:  0.4385513874263962\n",
      "Intercept: -2.058814852031446\n",
      "Coefficients: [-0.36302546  0.06507785 -0.24040081  0.58846476  0.00935442 -0.0528724\n",
      " -0.27949682  0.00805371 -0.05883548  2.00980817  0.01539931  0.2676895 ]\n"
     ]
    }
   ],
   "source": [
    "# This is Ordinary Least Squares (scipy.linalg.lstsq) wrapped as a predictor object.\n",
    "from sklearn.linear_model import LinearRegression\n",
    "\n",
    "# independent variables\n",
    "X = df[feature_list]\n",
    "\n",
    "# transfer independent variables to log scale and add to data frame\n",
    "for i in feature_list:\n",
    "    df[i + '_log'] = np.log(df[i] + 1)\n",
    "X_log = df[[i + '_log' for i in feature_list]]\n",
    "\n",
    "# response variables\n",
    "y = df['imdb_score']\n",
    "\n",
    "# Fit model and evaluate by the coefficient of determination, i.e. R^2.\n",
    "model = LinearRegression()\n",
    "\n",
    "model.fit(X, y)\n",
    "print('R2 using X: ', model.score(X, y))\n",
    "print('Intercept:', model.intercept_)\n",
    "print('Coefficients:', model.coef_)\n",
    "\n",
    "model.fit(X_log, y)\n",
    "print('R2 using X_log: ', model.score(X_log, y))\n",
    "print('Intercept:', model.intercept_)\n",
    "print('Coefficients:', model.coef_)"
   ]
  },
  {
   "cell_type": "code",
   "execution_count": 4,
   "metadata": {},
   "outputs": [
    {
     "name": "stdout",
     "output_type": "stream",
     "text": [
      "R2 using X_log_standardized:  0.4385513874263962\n",
      "Intercept: [-2.76952719e-15]\n",
      "Coefficients: [[-0.51353285  0.08883729 -0.33491089  0.79043315  0.02143574 -0.06783735\n",
      "  -0.26582318  0.03380056 -0.11563201  0.34484576  0.01193498  0.434538  ]]\n"
     ]
    }
   ],
   "source": [
    "# Standardize each column (x)\n",
    "from sklearn.preprocessing import StandardScaler\n",
    "scaler = StandardScaler()\n",
    "scaler.fit(X_log)\n",
    "X_log_standardized = pd.DataFrame(scaler.transform(X_log), columns = X_log.columns)\n",
    "\n",
    "scaler = StandardScaler()\n",
    "scaler.fit(y.values.reshape(-1,1))\n",
    "y_standardized = scaler.transform(y.values.reshape(-1,1))\n",
    "\n",
    "model.fit(X_log_standardized, y_standardized)\n",
    "print('R2 using X_log_standardized: ', model.score(X_log_standardized, y_standardized))\n",
    "print('Intercept:', model.intercept_)\n",
    "print('Coefficients:', model.coef_)"
   ]
  },
  {
   "cell_type": "code",
   "execution_count": 5,
   "metadata": {},
   "outputs": [
    {
     "name": "stdout",
     "output_type": "stream",
     "text": [
      "                            OLS Regression Results                            \n",
      "==============================================================================\n",
      "Dep. Variable:                      y   R-squared:                       0.439\n",
      "Model:                            OLS   Adj. R-squared:                  0.437\n",
      "Method:                 Least Squares   F-statistic:                     241.5\n",
      "Date:                Wed, 20 Feb 2019   Prob (F-statistic):               0.00\n",
      "Time:                        13:41:22   Log-Likelihood:                -4208.2\n",
      "No. Observations:                3723   AIC:                             8442.\n",
      "Df Residuals:                    3710   BIC:                             8523.\n",
      "Df Model:                          12                                         \n",
      "Covariance Type:            nonrobust                                         \n",
      "=================================================================================================\n",
      "                                    coef    std err          t      P>|t|      [0.025      0.975]\n",
      "-------------------------------------------------------------------------------------------------\n",
      "const                          8.674e-18      0.012   7.05e-16      1.000      -0.024       0.024\n",
      "cast_total_facebook_likes_log    -0.5135      0.094     -5.488      0.000      -0.697      -0.330\n",
      "actor_2_facebook_likes_log        0.0888      0.028      3.193      0.001       0.034       0.143\n",
      "budget_log                       -0.3349      0.016    -21.125      0.000      -0.366      -0.304\n",
      "num_voted_users_log               0.7904      0.030     26.735      0.000       0.732       0.848\n",
      "director_facebook_likes_log       0.0214      0.013      1.708      0.088      -0.003       0.046\n",
      "actor_3_facebook_likes_log       -0.0678      0.027     -2.559      0.011      -0.120      -0.016\n",
      "num_user_for_reviews_log         -0.2658      0.025    -10.443      0.000      -0.316      -0.216\n",
      "movie_facebook_likes_log          0.0338      0.013      2.597      0.009       0.008       0.059\n",
      "gross_log                        -0.1156      0.018     -6.399      0.000      -0.151      -0.080\n",
      "duration_log                      0.3448      0.014     25.147      0.000       0.318       0.372\n",
      "num_critic_for_reviews_log        0.0119      0.021      0.573      0.567      -0.029       0.053\n",
      "actor_1_facebook_likes_log        0.4345      0.074      5.866      0.000       0.289       0.580\n",
      "==============================================================================\n",
      "Omnibus:                      591.096   Durbin-Watson:                   1.967\n",
      "Prob(Omnibus):                  0.000   Jarque-Bera (JB):             1721.179\n",
      "Skew:                          -0.834   Prob(JB):                         0.00\n",
      "Kurtosis:                       5.884   Cond. No.                         21.6\n",
      "==============================================================================\n",
      "\n",
      "Warnings:\n",
      "[1] Standard Errors assume that the covariance matrix of the errors is correctly specified.\n"
     ]
    }
   ],
   "source": [
    "import statsmodels.api as sm\n",
    "\n",
    "# fit linear regression model using statsmodel package\n",
    "X2 = sm.add_constant(X_log_standardized)\n",
    "model = sm.OLS(y_standardized, X2).fit()\n",
    "print(model.summary())"
   ]
  },
  {
   "cell_type": "markdown",
   "metadata": {},
   "source": [
    "## Stochastic Gradient Descent\n",
    "\n",
    "https://scikit-learn.org/stable/modules/generated/sklearn.linear_model.SGDRegressor.html#sklearn.linear_model.SGDRegressor"
   ]
  },
  {
   "cell_type": "code",
   "execution_count": 6,
   "metadata": {},
   "outputs": [
    {
     "name": "stdout",
     "output_type": "stream",
     "text": [
      "R2 using X_log:  -2.2704635493410445e+17\n",
      "Intercept: [1.42500295e+09]\n",
      "Coefficients: [-2.38376503e+09  3.51905114e+08 -1.48294356e+07 -1.19683411e+08\n",
      " -2.83212533e+07  4.15752089e+08  1.17278950e+08  3.99392578e+06\n",
      "  4.19111653e+07  4.57787481e+08 -7.27767157e+07  1.63054318e+09]\n"
     ]
    }
   ],
   "source": [
    "from sklearn.linear_model import SGDRegressor\n",
    "\n",
    "X = df[feature_list]\n",
    "X_log = df[[i + '_log' for i in feature_list]]\n",
    "y = df['imdb_score']\n",
    "\n",
    "model = SGDRegressor()\n",
    "\n",
    "# Fit model and evaluate by the coefficient of determination, i.e. R^2.\n",
    "\n",
    "model.fit(X_log, y)\n",
    "print('R2 using X_log: ', model.score(X_log, y))\n",
    "print('Intercept:', model.intercept_)\n",
    "print('Coefficients:', model.coef_)"
   ]
  },
  {
   "cell_type": "code",
   "execution_count": 7,
   "metadata": {},
   "outputs": [
    {
     "name": "stdout",
     "output_type": "stream",
     "text": [
      "R2 using X_log_standardized:  0.4319666889057172\n",
      "Intercept: [6.46532866]\n",
      "Coefficients: [-0.1108841   0.02534254 -0.36062186  0.77272202  0.02421966 -0.15823527\n",
      " -0.24386764  0.04613838 -0.14202326  0.35219389  0.01956782  0.1233783 ]\n"
     ]
    }
   ],
   "source": [
    "# According to Sklearn's tips on practical use:\n",
    "# Stochastic Gradient Descent is sensitive to feature scaling, so it is highly recommended to scale your data.\n",
    "# Reference: https://scikit-learn.org/stable/modules/sgd.html\n",
    "\n",
    "model = SGDRegressor()\n",
    "model.fit(X_log_standardized, y)\n",
    "print('R2 using X_log_standardized: ', model.score(X_log_standardized, y))\n",
    "print('Intercept:', model.intercept_)\n",
    "print('Coefficients:', model.coef_)"
   ]
  },
  {
   "cell_type": "markdown",
   "metadata": {},
   "source": [
    "# Logit Regression\n",
    "\n",
    "https://scikit-learn.org/stable/modules/generated/sklearn.linear_model.LogisticRegression.html"
   ]
  },
  {
   "cell_type": "code",
   "execution_count": 8,
   "metadata": {},
   "outputs": [
    {
     "name": "stdout",
     "output_type": "stream",
     "text": [
      "R-square:  1.0\n",
      "Intercept: [0.1397382]\n",
      "Coefficients: [[3.92391757]]\n"
     ]
    },
    {
     "data": {
      "image/png": "[encoded data removed]",
      "text/plain": [
       "<Figure size 432x288 with 1 Axes>"
      ]
     },
     "metadata": {
      "needs_background": "light"
     },
     "output_type": "display_data"
    }
   ],
   "source": [
    "from sklearn.linear_model import LogisticRegression\n",
    "import matplotlib.pyplot as plt\n",
    "\n",
    "# General a dataset\n",
    "X = np.random.normal(size=100)\n",
    "y = X > 0\n",
    "\n",
    "# Fit model and evaluate by the coefficient of determination, i.e. R^2.\n",
    "model = LogisticRegression()\n",
    "X = X.reshape(-1, 1)\n",
    "model.fit(X, y)\n",
    "print('R-square: ', model.score(X, y))\n",
    "print('Intercept:', model.intercept_)\n",
    "print('Coefficients:', model.coef_)\n",
    "\n",
    "# define a logit function\n",
    "def logit_function(x):\n",
    "    return 1 / (1 + np.exp(-x))\n",
    "\n",
    "# plot the logit curve\n",
    "X_curve = np.arange(-3, 3, 0.1)\n",
    "plt.plot(X_curve, logit_function(X_curve * model.coef_[0] + model.intercept_), '-')\n",
    "\n",
    "# Plot the original points\n",
    "plt.plot(X, y, '.')\n",
    "plt.show()"
   ]
  },
  {
   "cell_type": "markdown",
   "metadata": {},
   "source": [
    "# LDA (Linear Discriminant Analysis)\n",
    "\n",
    "https://scikit-learn.org/stable/modules/generated/sklearn.discriminant_analysis.LinearDiscriminantAnalysis.html"
   ]
  },
  {
   "cell_type": "code",
   "execution_count": 9,
   "metadata": {},
   "outputs": [
    {
     "name": "stdout",
     "output_type": "stream",
     "text": [
      "0.9959636730575177\n",
      "[[1.33377348e-05 2.61306917e-05]]\n",
      "[5.38385889]\n",
      "[1.]\n"
     ]
    }
   ],
   "source": [
    "from sklearn.discriminant_analysis import LinearDiscriminantAnalysis\n",
    "\n",
    "country_list = ['USA', 'China']\n",
    "subdf = df[df['country'].isin(country_list)]\n",
    "X = subdf[['actor_1_facebook_likes', 'actor_2_facebook_likes']].values\n",
    "y = subdf['country'].values\n",
    "\n",
    "# Fit model and evaluate by the coefficient of determination, i.e. R^2.\n",
    "model = LinearDiscriminantAnalysis()\n",
    "model.fit(X, y)\n",
    "\n",
    "print(model.score(X, y))\n",
    "print(model.coef_)\n",
    "print(model.intercept_)\n",
    "print(model.explained_variance_ratio_)"
   ]
  },
  {
   "cell_type": "code",
   "execution_count": 10,
   "metadata": {},
   "outputs": [
    {
     "data": {
      "image/png": "[encoded data removed]",
      "text/plain": [
       "<Figure size 432x288 with 1 Axes>"
      ]
     },
     "metadata": {
      "needs_background": "light"
     },
     "output_type": "display_data"
    }
   ],
   "source": [
    "# plot the original points\n",
    "for country in country_list:\n",
    "    plt.scatter(X[y == country, 0], X[y == country, 1], label = country)\n",
    "\n",
    "# plot the fitted line\n",
    "x = np.arange(-max(X[:, 0]), max(X[:, 0]), 1000)\n",
    "plt.plot(x, - model.coef_[0][0]/model.coef_[0][1] * x - model.intercept_/model.coef_[0][1], '--')\n",
    "\n",
    "plt.xlabel('actor_1_facebook_likes')\n",
    "plt.ylabel('actor_2_facebook_likes')\n",
    "plt.legend()\n",
    "plt.show()"
   ]
  },
  {
   "cell_type": "code",
   "execution_count": null,
   "metadata": {},
   "outputs": [],
   "source": []
  }
 ],
 "metadata": {
  "kernelspec": {
   "display_name": "Python 3",
   "language": "python",
   "name": "python3"
  },
  "language_info": {
   "codemirror_mode": {
    "name": "ipython",
    "version": 3
   },
   "file_extension": ".py",
   "mimetype": "text/x-python",
   "name": "python",
   "nbconvert_exporter": "python",
   "pygments_lexer": "ipython3",
   "version": "3.7.2"
  },
  "toc": {
   "base_numbering": 1,
   "nav_menu": {},
   "number_sections": false,
   "sideBar": true,
   "skip_h1_title": false,
   "title_cell": "Table of Contents",
   "title_sidebar": "Contents",
   "toc_cell": false,
   "toc_position": {},
   "toc_section_display": true,
   "toc_window_display": false
  }
 },
 "nbformat": 4,
 "nbformat_minor": 2
}
