{
 "cells": [
  {
   "cell_type": "markdown",
   "metadata": {
    "colab_type": "text",
    "id": "AfNvwtxSMJ8-"
   },
   "source": [
    "# LDA with Scikit-Learn \n",
    "\n",
    "    The set of topics and their associated word probabilities\n",
    "    The topic of each word\n",
    "    The particular topic mixture of each document\n",
    "\n",
    "- https://scikit-learn.org/stable/modules/generated/sklearn.decomposition.LatentDirichletAllocation.html\n",
    "- https://scikit-learn.org/stable/auto_examples/applications/plot_topics_extraction_with_nmf_lda.html"
   ]
  },
  {
   "cell_type": "code",
   "execution_count": 1,
   "metadata": {
    "colab": {},
    "colab_type": "code",
    "id": "535-BOBWMXvd"
   },
   "outputs": [],
   "source": [
    "import pandas as pd\n",
    "import numpy as np"
   ]
  },
  {
   "cell_type": "code",
   "execution_count": 2,
   "metadata": {
    "colab": {
     "base_uri": "https://localhost:8080/",
     "height": 163
    },
    "colab_type": "code",
    "id": "Gjgb6x66MSUN",
    "outputId": "1fa15f5c-4188-4866-a599-8505aa2ee8f5"
   },
   "outputs": [
    {
     "data": {
      "text/plain": [
       "(68,)"
      ]
     },
     "execution_count": 2,
     "metadata": {},
     "output_type": "execute_result"
    }
   ],
   "source": [
    "# read data from csv\n",
    "jcmc_df = pd.read_csv('/mnt/hd1/comm_subfields/jcmc_abstract_list.csv', low_memory=False)\n",
    "sentence_list = jcmc_df['AB'].dropna()\n",
    "# number of documents\n",
    "sentence_list.shape"
   ]
  },
  {
   "cell_type": "code",
   "execution_count": 3,
   "metadata": {},
   "outputs": [],
   "source": [
    "# turn to term-document frequency matrix\n",
    "from sklearn.feature_extraction.text import CountVectorizer\n",
    "tf_vectorizer = CountVectorizer(stop_words='english')\n",
    "tf = tf_vectorizer.fit_transform(sentence_list)"
   ]
  },
  {
   "cell_type": "code",
   "execution_count": 4,
   "metadata": {},
   "outputs": [
    {
     "data": {
      "text/plain": [
       "(68, 1969)"
      ]
     },
     "execution_count": 4,
     "metadata": {},
     "output_type": "execute_result"
    }
   ],
   "source": [
    "tf.toarray().shape"
   ]
  },
  {
   "cell_type": "code",
   "execution_count": 5,
   "metadata": {},
   "outputs": [
    {
     "data": {
      "text/plain": [
       "LatentDirichletAllocation(batch_size=128, doc_topic_prior=None,\n",
       "             evaluate_every=-1, learning_decay=0.7,\n",
       "             learning_method='batch', learning_offset=10.0,\n",
       "             max_doc_update_iter=100, max_iter=10, mean_change_tol=0.001,\n",
       "             n_components=10, n_jobs=None, n_topics=None, perp_tol=0.1,\n",
       "             random_state=0, topic_word_prior=None,\n",
       "             total_samples=1000000.0, verbose=0)"
      ]
     },
     "execution_count": 5,
     "metadata": {},
     "output_type": "execute_result"
    }
   ],
   "source": [
    "from sklearn.decomposition import LatentDirichletAllocation\n",
    "n_components = 10\n",
    "lda = LatentDirichletAllocation(n_components=n_components, random_state=0)\n",
    "lda.fit(tf)"
   ]
  },
  {
   "cell_type": "markdown",
   "metadata": {},
   "source": [
    "## The set of topics and their associated word probabilities"
   ]
  },
  {
   "cell_type": "code",
   "execution_count": 6,
   "metadata": {},
   "outputs": [
    {
     "name": "stdout",
     "output_type": "stream",
     "text": [
      "(10, 1969)\n"
     ]
    }
   ],
   "source": [
    "# retrieve top n_top_words words for each topic\n",
    "n_top_words = 5\n",
    "feature_names = tf_vectorizer.get_feature_names()\n",
    "\n",
    "# components_[i, j] can be viewed as pseudocount that \n",
    "# represents the number of times word j was assigned to topic i.\n",
    "\n",
    "topic_word_matrix = lda.components_\n",
    "print(topic_word_matrix.shape)\n",
    "\n",
    "rows = []\n",
    "for topic_id, topic in enumerate(topic_word_matrix):\n",
    "    row = [\"Topic #%d: \" % topic_id]\n",
    "    row += [feature_names[i] + \"*\" + str(np.round(topic[i] / np.sum(topic), 4))\n",
    "            for i in topic.argsort()[:-n_top_words-1:-1]]\n",
    "    rows.append(row)\n",
    "    \n",
    "topic_word_df = pd.DataFrame(rows, columns=['Topic', 'Top1 Word*Prob', 'Top2 Word*Prob', \\\n",
    "                                            'Top3 Word*Prob', 'Top4 Word*Prob', 'Top5 Word*Prob'])"
   ]
  },
  {
   "cell_type": "code",
   "execution_count": 7,
   "metadata": {},
   "outputs": [
    {
     "data": {
      "text/html": [
       "<div>\n",
       "<style scoped>\n",
       "    .dataframe tbody tr th:only-of-type {\n",
       "        vertical-align: middle;\n",
       "    }\n",
       "\n",
       "    .dataframe tbody tr th {\n",
       "        vertical-align: top;\n",
       "    }\n",
       "\n",
       "    .dataframe thead th {\n",
       "        text-align: right;\n",
       "    }\n",
       "</style>\n",
       "<table border=\"1\" class=\"dataframe\">\n",
       "  <thead>\n",
       "    <tr style=\"text-align: right;\">\n",
       "      <th></th>\n",
       "      <th>Topic</th>\n",
       "      <th>Top1 Word*Prob</th>\n",
       "      <th>Top2 Word*Prob</th>\n",
       "      <th>Top3 Word*Prob</th>\n",
       "      <th>Top4 Word*Prob</th>\n",
       "      <th>Top5 Word*Prob</th>\n",
       "    </tr>\n",
       "  </thead>\n",
       "  <tbody>\n",
       "    <tr>\n",
       "      <th>0</th>\n",
       "      <td>Topic #0:</td>\n",
       "      <td>online*0.0238</td>\n",
       "      <td>communication*0.0219</td>\n",
       "      <td>friendship*0.0159</td>\n",
       "      <td>information*0.01</td>\n",
       "      <td>im*0.01</td>\n",
       "    </tr>\n",
       "    <tr>\n",
       "      <th>1</th>\n",
       "      <td>Topic #1:</td>\n",
       "      <td>social*0.0165</td>\n",
       "      <td>users*0.0137</td>\n",
       "      <td>online*0.0117</td>\n",
       "      <td>srm*0.009</td>\n",
       "      <td>network*0.009</td>\n",
       "    </tr>\n",
       "    <tr>\n",
       "      <th>2</th>\n",
       "      <td>Topic #2:</td>\n",
       "      <td>templates*0.0085</td>\n",
       "      <td>study*0.0071</td>\n",
       "      <td>sharing*0.0071</td>\n",
       "      <td>online*0.0071</td>\n",
       "      <td>findings*0.0057</td>\n",
       "    </tr>\n",
       "    <tr>\n",
       "      <th>3</th>\n",
       "      <td>Topic #3:</td>\n",
       "      <td>political*0.0284</td>\n",
       "      <td>information*0.0154</td>\n",
       "      <td>participation*0.0135</td>\n",
       "      <td>news*0.0116</td>\n",
       "      <td>sharing*0.0116</td>\n",
       "    </tr>\n",
       "    <tr>\n",
       "      <th>4</th>\n",
       "      <td>Topic #4:</td>\n",
       "      <td>facebook*0.0126</td>\n",
       "      <td>physical*0.0111</td>\n",
       "      <td>information*0.01</td>\n",
       "      <td>social*0.0098</td>\n",
       "      <td>study*0.0087</td>\n",
       "    </tr>\n",
       "    <tr>\n",
       "      <th>5</th>\n",
       "      <td>Topic #5:</td>\n",
       "      <td>social*0.012</td>\n",
       "      <td>affordances*0.0105</td>\n",
       "      <td>network*0.0072</td>\n",
       "      <td>data*0.0071</td>\n",
       "      <td>effects*0.0071</td>\n",
       "    </tr>\n",
       "    <tr>\n",
       "      <th>6</th>\n",
       "      <td>Topic #6:</td>\n",
       "      <td>social*0.0219</td>\n",
       "      <td>news*0.0182</td>\n",
       "      <td>facebook*0.0169</td>\n",
       "      <td>results*0.0078</td>\n",
       "      <td>data*0.0078</td>\n",
       "    </tr>\n",
       "    <tr>\n",
       "      <th>7</th>\n",
       "      <td>Topic #7:</td>\n",
       "      <td>individual*0.0188</td>\n",
       "      <td>level*0.0147</td>\n",
       "      <td>use*0.0106</td>\n",
       "      <td>internet*0.0106</td>\n",
       "      <td>global*0.0106</td>\n",
       "    </tr>\n",
       "    <tr>\n",
       "      <th>8</th>\n",
       "      <td>Topic #8:</td>\n",
       "      <td>self*0.0169</td>\n",
       "      <td>disclosure*0.015</td>\n",
       "      <td>media*0.0141</td>\n",
       "      <td>privacy*0.0131</td>\n",
       "      <td>social*0.0121</td>\n",
       "    </tr>\n",
       "    <tr>\n",
       "      <th>9</th>\n",
       "      <td>Topic #9:</td>\n",
       "      <td>digital*0.0105</td>\n",
       "      <td>news*0.0101</td>\n",
       "      <td>media*0.0088</td>\n",
       "      <td>mobile*0.0088</td>\n",
       "      <td>studies*0.0088</td>\n",
       "    </tr>\n",
       "  </tbody>\n",
       "</table>\n",
       "</div>"
      ],
      "text/plain": [
       "        Topic     Top1 Word*Prob        Top2 Word*Prob        Top3 Word*Prob  \\\n",
       "0  Topic #0:       online*0.0238  communication*0.0219     friendship*0.0159   \n",
       "1  Topic #1:       social*0.0165          users*0.0137         online*0.0117   \n",
       "2  Topic #2:    templates*0.0085          study*0.0071        sharing*0.0071   \n",
       "3  Topic #3:    political*0.0284    information*0.0154  participation*0.0135   \n",
       "4  Topic #4:     facebook*0.0126       physical*0.0111      information*0.01   \n",
       "5  Topic #5:        social*0.012    affordances*0.0105        network*0.0072   \n",
       "6  Topic #6:       social*0.0219           news*0.0182       facebook*0.0169   \n",
       "7  Topic #7:   individual*0.0188          level*0.0147            use*0.0106   \n",
       "8  Topic #8:         self*0.0169      disclosure*0.015          media*0.0141   \n",
       "9  Topic #9:      digital*0.0105           news*0.0101          media*0.0088   \n",
       "\n",
       "     Top4 Word*Prob   Top5 Word*Prob  \n",
       "0  information*0.01          im*0.01  \n",
       "1         srm*0.009    network*0.009  \n",
       "2     online*0.0071  findings*0.0057  \n",
       "3       news*0.0116   sharing*0.0116  \n",
       "4     social*0.0098     study*0.0087  \n",
       "5       data*0.0071   effects*0.0071  \n",
       "6    results*0.0078      data*0.0078  \n",
       "7   internet*0.0106    global*0.0106  \n",
       "8    privacy*0.0131    social*0.0121  \n",
       "9     mobile*0.0088   studies*0.0088  "
      ]
     },
     "execution_count": 7,
     "metadata": {},
     "output_type": "execute_result"
    }
   ],
   "source": [
    "topic_word_df"
   ]
  },
  {
   "cell_type": "markdown",
   "metadata": {},
   "source": [
    "## The topic of each word"
   ]
  },
  {
   "cell_type": "code",
   "execution_count": 8,
   "metadata": {
    "scrolled": true
   },
   "outputs": [
    {
     "name": "stdout",
     "output_type": "stream",
     "text": [
      "(1969, 10)\n"
     ]
    }
   ],
   "source": [
    "n_top_topic = 2\n",
    "\n",
    "word_topic_matrix = topic_word_matrix.T\n",
    "print(word_topic_matrix.shape)\n",
    "\n",
    "rows = []\n",
    "for word_id, word in enumerate(word_topic_matrix):\n",
    "    row = [feature_names[word_id]]\n",
    "    row += ['Topic' + str(i) + \"*\" + str(np.round(word[i] / np.sum(word), 2))\n",
    "            for i in word.argsort()[:-n_top_topic-1:-1]]\n",
    "    rows.append(row)\n",
    "    \n",
    "word_topic_df = pd.DataFrame(rows, columns=['Word', 'Top1 Topic*Prob', 'Top2 Topic*Prob'])"
   ]
  },
  {
   "cell_type": "code",
   "execution_count": 9,
   "metadata": {
    "scrolled": true
   },
   "outputs": [
    {
     "data": {
      "text/html": [
       "<div>\n",
       "<style scoped>\n",
       "    .dataframe tbody tr th:only-of-type {\n",
       "        vertical-align: middle;\n",
       "    }\n",
       "\n",
       "    .dataframe tbody tr th {\n",
       "        vertical-align: top;\n",
       "    }\n",
       "\n",
       "    .dataframe thead th {\n",
       "        text-align: right;\n",
       "    }\n",
       "</style>\n",
       "<table border=\"1\" class=\"dataframe\">\n",
       "  <thead>\n",
       "    <tr style=\"text-align: right;\">\n",
       "      <th></th>\n",
       "      <th>Word</th>\n",
       "      <th>Top1 Topic*Prob</th>\n",
       "      <th>Top2 Topic*Prob</th>\n",
       "    </tr>\n",
       "  </thead>\n",
       "  <tbody>\n",
       "    <tr>\n",
       "      <th>1959</th>\n",
       "      <td>worldwide</td>\n",
       "      <td>Topic7*0.55</td>\n",
       "      <td>Topic0*0.05</td>\n",
       "    </tr>\n",
       "    <tr>\n",
       "      <th>1960</th>\n",
       "      <td>written</td>\n",
       "      <td>Topic2*0.7</td>\n",
       "      <td>Topic7*0.03</td>\n",
       "    </tr>\n",
       "    <tr>\n",
       "      <th>1961</th>\n",
       "      <td>www</td>\n",
       "      <td>Topic7*0.77</td>\n",
       "      <td>Topic0*0.03</td>\n",
       "    </tr>\n",
       "    <tr>\n",
       "      <th>1962</th>\n",
       "      <td>year</td>\n",
       "      <td>Topic1*0.55</td>\n",
       "      <td>Topic7*0.05</td>\n",
       "    </tr>\n",
       "    <tr>\n",
       "      <th>1963</th>\n",
       "      <td>yielded</td>\n",
       "      <td>Topic7*0.7</td>\n",
       "      <td>Topic0*0.03</td>\n",
       "    </tr>\n",
       "    <tr>\n",
       "      <th>1964</th>\n",
       "      <td>york</td>\n",
       "      <td>Topic9*0.55</td>\n",
       "      <td>Topic7*0.05</td>\n",
       "    </tr>\n",
       "    <tr>\n",
       "      <th>1965</th>\n",
       "      <td>young</td>\n",
       "      <td>Topic9*0.35</td>\n",
       "      <td>Topic8*0.35</td>\n",
       "    </tr>\n",
       "    <tr>\n",
       "      <th>1966</th>\n",
       "      <td>youth</td>\n",
       "      <td>Topic2*0.55</td>\n",
       "      <td>Topic7*0.05</td>\n",
       "    </tr>\n",
       "    <tr>\n",
       "      <th>1967</th>\n",
       "      <td>youtube</td>\n",
       "      <td>Topic1*0.55</td>\n",
       "      <td>Topic9*0.05</td>\n",
       "    </tr>\n",
       "    <tr>\n",
       "      <th>1968</th>\n",
       "      <td>yuan</td>\n",
       "      <td>Topic0*0.55</td>\n",
       "      <td>Topic7*0.05</td>\n",
       "    </tr>\n",
       "  </tbody>\n",
       "</table>\n",
       "</div>"
      ],
      "text/plain": [
       "           Word Top1 Topic*Prob Top2 Topic*Prob\n",
       "1959  worldwide     Topic7*0.55     Topic0*0.05\n",
       "1960    written      Topic2*0.7     Topic7*0.03\n",
       "1961        www     Topic7*0.77     Topic0*0.03\n",
       "1962       year     Topic1*0.55     Topic7*0.05\n",
       "1963    yielded      Topic7*0.7     Topic0*0.03\n",
       "1964       york     Topic9*0.55     Topic7*0.05\n",
       "1965      young     Topic9*0.35     Topic8*0.35\n",
       "1966      youth     Topic2*0.55     Topic7*0.05\n",
       "1967    youtube     Topic1*0.55     Topic9*0.05\n",
       "1968       yuan     Topic0*0.55     Topic7*0.05"
      ]
     },
     "execution_count": 9,
     "metadata": {},
     "output_type": "execute_result"
    }
   ],
   "source": [
    "word_topic_df.tail(10)"
   ]
  },
  {
   "cell_type": "markdown",
   "metadata": {},
   "source": [
    "## The topic mixture of each document"
   ]
  },
  {
   "cell_type": "code",
   "execution_count": 25,
   "metadata": {
    "scrolled": false
   },
   "outputs": [
    {
     "name": "stdout",
     "output_type": "stream",
     "text": [
      "(68, 10)\n"
     ]
    }
   ],
   "source": [
    "n_top_topic = 2\n",
    "\n",
    "doc_topic_matrix = lda.transform(tf)\n",
    "print(doc_topic_matrix.shape)\n",
    "\n",
    "rows = []\n",
    "for doc_id, doc in enumerate(doc_topic_matrix):\n",
    "    row = ['# %d' % doc_id]\n",
    "    row += ['Topic' + str(i) + \"*\" + str(np.round(doc[i], 2))\n",
    "            for i in doc.argsort()[:-n_top_topic-1:-1]]\n",
    "    rows.append(row)\n",
    "    \n",
    "doc_topic_df = pd.DataFrame(rows, columns=['Document', 'Top1 Topic*Prob', 'Top2 Topic*Prob'])"
   ]
  },
  {
   "cell_type": "code",
   "execution_count": 30,
   "metadata": {},
   "outputs": [
    {
     "data": {
      "text/html": [
       "<div>\n",
       "<style scoped>\n",
       "    .dataframe tbody tr th:only-of-type {\n",
       "        vertical-align: middle;\n",
       "    }\n",
       "\n",
       "    .dataframe tbody tr th {\n",
       "        vertical-align: top;\n",
       "    }\n",
       "\n",
       "    .dataframe thead th {\n",
       "        text-align: right;\n",
       "    }\n",
       "</style>\n",
       "<table border=\"1\" class=\"dataframe\">\n",
       "  <thead>\n",
       "    <tr style=\"text-align: right;\">\n",
       "      <th></th>\n",
       "      <th>Document</th>\n",
       "      <th>Top1 Topic*Prob</th>\n",
       "      <th>Top2 Topic*Prob</th>\n",
       "    </tr>\n",
       "  </thead>\n",
       "  <tbody>\n",
       "    <tr>\n",
       "      <th>15</th>\n",
       "      <td># 15</td>\n",
       "      <td>Topic1*0.99</td>\n",
       "      <td>Topic8*0.0</td>\n",
       "    </tr>\n",
       "    <tr>\n",
       "      <th>16</th>\n",
       "      <td># 16</td>\n",
       "      <td>Topic9*0.99</td>\n",
       "      <td>Topic3*0.0</td>\n",
       "    </tr>\n",
       "    <tr>\n",
       "      <th>17</th>\n",
       "      <td># 17</td>\n",
       "      <td>Topic9*0.99</td>\n",
       "      <td>Topic8*0.0</td>\n",
       "    </tr>\n",
       "    <tr>\n",
       "      <th>18</th>\n",
       "      <td># 18</td>\n",
       "      <td>Topic9*0.99</td>\n",
       "      <td>Topic3*0.0</td>\n",
       "    </tr>\n",
       "    <tr>\n",
       "      <th>19</th>\n",
       "      <td># 19</td>\n",
       "      <td>Topic1*0.94</td>\n",
       "      <td>Topic4*0.05</td>\n",
       "    </tr>\n",
       "    <tr>\n",
       "      <th>20</th>\n",
       "      <td># 20</td>\n",
       "      <td>Topic8*0.99</td>\n",
       "      <td>Topic4*0.0</td>\n",
       "    </tr>\n",
       "    <tr>\n",
       "      <th>21</th>\n",
       "      <td># 21</td>\n",
       "      <td>Topic3*0.74</td>\n",
       "      <td>Topic6*0.23</td>\n",
       "    </tr>\n",
       "    <tr>\n",
       "      <th>22</th>\n",
       "      <td># 22</td>\n",
       "      <td>Topic5*0.99</td>\n",
       "      <td>Topic4*0.0</td>\n",
       "    </tr>\n",
       "    <tr>\n",
       "      <th>23</th>\n",
       "      <td># 23</td>\n",
       "      <td>Topic3*0.99</td>\n",
       "      <td>Topic6*0.0</td>\n",
       "    </tr>\n",
       "    <tr>\n",
       "      <th>24</th>\n",
       "      <td># 24</td>\n",
       "      <td>Topic1*0.99</td>\n",
       "      <td>Topic4*0.0</td>\n",
       "    </tr>\n",
       "  </tbody>\n",
       "</table>\n",
       "</div>"
      ],
      "text/plain": [
       "   Document Top1 Topic*Prob Top2 Topic*Prob\n",
       "15     # 15     Topic1*0.99      Topic8*0.0\n",
       "16     # 16     Topic9*0.99      Topic3*0.0\n",
       "17     # 17     Topic9*0.99      Topic8*0.0\n",
       "18     # 18     Topic9*0.99      Topic3*0.0\n",
       "19     # 19     Topic1*0.94     Topic4*0.05\n",
       "20     # 20     Topic8*0.99      Topic4*0.0\n",
       "21     # 21     Topic3*0.74     Topic6*0.23\n",
       "22     # 22     Topic5*0.99      Topic4*0.0\n",
       "23     # 23     Topic3*0.99      Topic6*0.0\n",
       "24     # 24     Topic1*0.99      Topic4*0.0"
      ]
     },
     "execution_count": 30,
     "metadata": {},
     "output_type": "execute_result"
    }
   ],
   "source": [
    "doc_topic_df.iloc[15:25]"
   ]
  },
  {
   "cell_type": "code",
   "execution_count": null,
   "metadata": {},
   "outputs": [],
   "source": []
  }
 ],
 "metadata": {
  "colab": {
   "collapsed_sections": [],
   "name": "Tutorial-Topic Modeling and LDA.ipynb",
   "provenance": [],
   "version": "0.3.2"
  },
  "kernelspec": {
   "display_name": "Python 3",
   "language": "python",
   "name": "python3"
  },
  "language_info": {
   "codemirror_mode": {
    "name": "ipython",
    "version": 3
   },
   "file_extension": ".py",
   "mimetype": "text/x-python",
   "name": "python",
   "nbconvert_exporter": "python",
   "pygments_lexer": "ipython3",
   "version": "3.7.1"
  },
  "toc": {
   "base_numbering": 1,
   "nav_menu": {},
   "number_sections": false,
   "sideBar": true,
   "skip_h1_title": false,
   "title_cell": "Table of Contents",
   "title_sidebar": "Contents",
   "toc_cell": false,
   "toc_position": {},
   "toc_section_display": true,
   "toc_window_display": true
  }
 },
 "nbformat": 4,
 "nbformat_minor": 1
}
